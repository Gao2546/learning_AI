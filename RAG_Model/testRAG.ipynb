{
 "cells": [
  {
   "cell_type": "markdown",
   "metadata": {},
   "source": [
    "# Test Ollama"
   ]
  },
  {
   "cell_type": "code",
   "execution_count": 1,
   "metadata": {},
   "outputs": [],
   "source": [
    "import ollama"
   ]
  },
  {
   "cell_type": "code",
   "execution_count": 2,
   "metadata": {},
   "outputs": [
    {
     "data": {
      "text/plain": [
       "ListResponse(models=[Model(model='llama3.2:latest', modified_at=datetime.datetime(2025, 3, 16, 21, 36, 54, 737410, tzinfo=TzInfo(+07:00)), digest='a80c4f17acd55265feec403c7aef86be0c25983ab279d83f3bcd3abbcb5b8b72', size=2019393189, details=ModelDetails(parent_model='', format='gguf', family='llama', families=['llama'], parameter_size='3.2B', quantization_level='Q4_K_M'))])"
      ]
     },
     "execution_count": 2,
     "metadata": {},
     "output_type": "execute_result"
    }
   ],
   "source": [
    "ollama.list()"
   ]
  },
  {
   "cell_type": "code",
   "execution_count": null,
   "metadata": {},
   "outputs": [],
   "source": [
    "ollama.pull(\"llama3.2\")"
   ]
  },
  {
   "cell_type": "code",
   "execution_count": 7,
   "metadata": {},
   "outputs": [],
   "source": [
    "oo = ollama.chat(model='llama3.2', messages=[{'role': 'user', 'content': 'Why is the sky blue?'}])"
   ]
  },
  {
   "cell_type": "code",
   "execution_count": 11,
   "metadata": {},
   "outputs": [
    {
     "name": "stdout",
     "output_type": "stream",
     "text": [
      "The sky appears blue because of a phenomenon called Rayleigh scattering, named after the British physicist Lord Rayleigh, who first described it in the late 19th century.\n",
      "\n",
      "Here's what happens:\n",
      "\n",
      "1. When sunlight enters Earth's atmosphere, it encounters tiny molecules of gases such as nitrogen (N2) and oxygen (O2).\n",
      "2. These molecules scatter the light in all directions, but they scatter shorter (blue) wavelengths more than longer (red) wavelengths.\n",
      "3. This is because the smaller molecules are more effective at scattering the shorter wavelengths.\n",
      "4. As a result, the blue light is scattered in all directions and reaches our eyes from all parts of the sky.\n",
      "5. Our eyes perceive this scattered blue light as the color of the sky.\n",
      "\n",
      "On the other hand, the longer wavelengths of light (like red and orange) continue to travel in a straight line and don't get scattered as much. That's why we see more of these colors during sunrise and sunset when the sun is lower in the sky.\n",
      "\n",
      "So, to summarize: the sky appears blue because of the scattering of sunlight by tiny molecules in the atmosphere, which favors shorter wavelengths like blue light over longer wavelengths like red light.\n"
     ]
    }
   ],
   "source": [
    "print(oo[\"message\"][\"content\"])"
   ]
  },
  {
   "cell_type": "code",
   "execution_count": 23,
   "metadata": {},
   "outputs": [],
   "source": [
    "res = ollama.generate(model='llama3.2', prompt='Why is the sky blue?')[\"response\"]"
   ]
  },
  {
   "cell_type": "code",
   "execution_count": 24,
   "metadata": {},
   "outputs": [
    {
     "name": "stdout",
     "output_type": "stream",
     "text": [
      "The sky appears blue because of a phenomenon called Rayleigh scattering, named after the British physicist Lord Rayleigh, who first described it in the late 19th century.\n",
      "\n",
      "Here's what happens:\n",
      "\n",
      "1. **Sunlight enters Earth's atmosphere**: When sunlight enters our atmosphere, it encounters tiny molecules of gases such as nitrogen (N2) and oxygen (O2).\n",
      "2. **Scattering occurs**: These gas molecules scatter the light in all directions, but they scatter shorter (blue) wavelengths more than longer (red) wavelengths.\n",
      "3. **Blue light is scattered more**: The blue light is scattered in all directions because it has a shorter wavelength and is more easily deflected by the small gas molecules. This is known as Rayleigh scattering.\n",
      "4. **Red light continues straight**: The longer wavelength red light, on the other hand, travels in a more direct path through the atmosphere, reaching our eyes from a more oblique angle.\n",
      "\n",
      "As a result of this scattering process, our eyes see the sky as blue because of the abundance of scattered blue light. The color we perceive is a combination of the scattered blue light and the direct sunlight.\n",
      "\n",
      "It's worth noting that:\n",
      "\n",
      "* During sunrise and sunset, the sky can appear red or orange due to a different scattering effect called Mie scattering.\n",
      "* At high altitudes, the sky can appear more intense blue because there are fewer atmospheric molecules to scatter the light.\n",
      "* In areas with high levels of air pollution or dust, the sky can appear hazy or gray due to the presence of particulate matter that scatters light.\n",
      "\n",
      "So, in short, the sky appears blue because of Rayleigh scattering, which favors the shorter wavelengths of light (like blue) over longer wavelengths (like red).\n"
     ]
    }
   ],
   "source": [
    "print(res)"
   ]
  },
  {
   "cell_type": "code",
   "execution_count": 20,
   "metadata": {},
   "outputs": [],
   "source": [
    "reasons =\"\"\"'At least 34 people have died in the US after violent tornadoes tore through several south-eastern states, flipping cars and flattening homes.In Kansas, a dust storm on Friday afternoon caused a crash with more than 50 vehicles, killing at least 8 people. Texas saw a similar mass pile-up.A state of emergency has been declared in several states, including Arkansas, Georgia and Oklahoma, where more than 100 wildfires are raging.A third day of severe weather is expected on Sunday, with flash flooding and more tornado warnings issued across the region. The National Weather Service (NWS) warned of \"intense to violent\" tornadoes, describing the situation as \"particularly dangerous\".\"Get to the sturdiest structure you have access to and remain in place until the storms pass,\" the NWS told residents in Alabama on Saturday night, when multiple tornado warnings were issued.At least 250,000 properties across the US were without power on Sunday morning, according to tracker PowerOutage.In Missouri, where at least 12 people died, Governor Mike Kehoe said the state had been \"devastated by severe storms... leaving homes destroyed and lives lost\".Initial reports showed 19 tornadoes had struck 25 counties in the state, its emergency management agency said.A home belonging to one of the those killed was torn apart.\"It was unrecognisable as a home. Just a debris field,\" Coroner Jim Akers of Butler County told the BBC's US partner, CBS News.\"The floor was upside down. We were walking on walls.\"Alicia Wilson, who was evacuated from her Missouri home, told local TV station KSDK: \"It was the scariest thing I've ever been through - it was so fast, our ears were all about to burst.\"A woman in Mississippi described how terrified her daughter was.\"All I could hear was my six year old screaming that she didn't want to die - you don't want to hear that coming out of your baby's mouth,\" Jericho McCoy said.\"\"\"\n",
    "question = \"what happend\""
   ]
  },
  {
   "cell_type": "code",
   "execution_count": 21,
   "metadata": {},
   "outputs": [],
   "source": [
    "res2 = ollama.generate(model=\"llama3.2\", prompt=reasons + \"/n\" + question)[\"response\"]"
   ]
  },
  {
   "cell_type": "code",
   "execution_count": 22,
   "metadata": {},
   "outputs": [
    {
     "name": "stdout",
     "output_type": "stream",
     "text": [
      "Severe weather, including tornadoes and dust storms, has caused widespread damage and loss of life in several southern US states. The affected areas include:\n",
      "\n",
      "1. Kansas: A dust storm on Friday afternoon caused a crash involving over 50 vehicles, resulting in at least 8 deaths.\n",
      "2. Texas: A similar mass pile-up occurred.\n",
      "3. Arkansas: A state of emergency has been declared due to multiple wildfires raging across the state.\n",
      "4. Georgia: A state of emergency has also been declared in response to severe weather and wildfires.\n",
      "5. Oklahoma: A state of emergency has been declared, with over 100 wildfires burning across the state.\n",
      "\n",
      "The National Weather Service (NWS) has issued warnings for intense to violent tornadoes, flash flooding, and more tornado warnings are expected on Sunday. At least 250,000 properties in the US were without power on Sunday morning, according to PowerOutage tracker.\n",
      "\n",
      "Missouri was particularly hard hit, with at least 12 deaths reported. The state's emergency management agency reported that 19 tornadoes struck 25 counties, leaving homes destroyed and lives lost. One home belonging to one of the victims was torn apart, with the floor reportedly upside down.\n",
      "\n",
      "Other reports include:\n",
      "\n",
      "* In Alabama, multiple tornado warnings were issued on Saturday night.\n",
      "* A woman in Mississippi described how terrified her six-year-old daughter was during a terrifying experience.\n",
      "* Alicia Wilson, who was evacuated from her Missouri home, said it was \"the scariest thing I've ever been through\" and that she heard the sound of crashing as their ears were about to burst.\n",
      "\n",
      "The region is expected to face another day of severe weather on Sunday.\n"
     ]
    }
   ],
   "source": [
    "print(res2)"
   ]
  },
  {
   "cell_type": "markdown",
   "metadata": {},
   "source": [
    "# Test LangChangeRAG"
   ]
  },
  {
   "cell_type": "code",
   "execution_count": 1,
   "metadata": {},
   "outputs": [
    {
     "name": "stderr",
     "output_type": "stream",
     "text": [
      "USER_AGENT environment variable not set, consider setting it to identify your requests.\n"
     ]
    }
   ],
   "source": [
    "import getpass\n",
    "import os\n",
    "import ollama\n",
    "\n",
    "import bs4\n",
    "from langchain import hub\n",
    "from langchain_community.document_loaders import WebBaseLoader\n",
    "from langchain_core.documents import Document\n",
    "from langchain_text_splitters import RecursiveCharacterTextSplitter\n",
    "from langgraph.graph import START, StateGraph\n",
    "from typing_extensions import List, TypedDict\n",
    "from langchain_community.llms import Ollama\n",
    "from langchain_ollama import OllamaEmbeddings\n",
    "from langchain_core.vectorstores import InMemoryVectorStore\n",
    "\n",
    "# os.environ[\"LANGSMITH_TRACING\"] = \"true\"\n",
    "# os.environ[\"LANGSMITH_API_KEY\"] = getpass.getpass()"
   ]
  },
  {
   "cell_type": "code",
   "execution_count": 2,
   "metadata": {},
   "outputs": [
    {
     "name": "stderr",
     "output_type": "stream",
     "text": [
      "/tmp/ipykernel_15278/2053289234.py:1: LangChainDeprecationWarning: The class `Ollama` was deprecated in LangChain 0.3.1 and will be removed in 1.0.0. An updated version of the class exists in the :class:`~langchain-ollama package and should be used instead. To use it run `pip install -U :class:`~langchain-ollama` and import as `from :class:`~langchain_ollama import OllamaLLM``.\n",
      "  llm = Ollama(model=\"llama3.2\")  # Replace with \"llama3\", \"gemma\", etc.\n"
     ]
    },
    {
     "name": "stdout",
     "output_type": "stream",
     "text": [
      "Retrieval-Augmented Generation (RAG) is a type of conversational AI model that combines retrieval mechanisms with generation capabilities. It was first introduced in the paper \"Re-Ranking of Retrieved Documents for Conversational AI\" by Raghav Gupta et al.\n",
      "\n",
      "In traditional conversational AI models, the goal is to generate text based on user input, such as answering questions or completing tasks. However, this approach can lead to incomplete or inaccurate responses if the model cannot fully understand the context or intent behind the user's query.\n",
      "\n",
      "RAG addresses this limitation by introducing a retrieval component that searches for relevant documents or knowledge graphs related to the user's input. The retrieved documents are then used as inputs to generate text that is more accurate, complete, and contextually relevant.\n",
      "\n",
      "The RAG architecture typically consists of three main components:\n",
      "\n",
      "1. **Retriever**: This module searches for relevant documents or knowledge graphs based on the user's input.\n",
      "2. **Ranker**: This module evaluates the retrieved documents and ranks them in order of relevance to the user's query.\n",
      "3. **Generator**: This module uses the top-ranked document(s) as inputs to generate text that is more accurate, complete, and contextually relevant.\n",
      "\n",
      "The retrieval mechanism is typically based on a search engine or a knowledge graph, while the generation component can be based on a variety of models, such as language models (e.g., transformer-based models) or sequence-to-sequence models.\n",
      "\n",
      "RAG has several advantages over traditional conversational AI models, including:\n",
      "\n",
      "* Improved accuracy: By using retrieved documents as inputs to generate text, RAG models can produce more accurate and complete responses.\n",
      "* Contextual understanding: The retrieval component helps to better understand the context and intent behind the user's query, leading to more relevant and accurate responses.\n",
      "* Reduced training data: RAG models require less training data than traditional conversational AI models, as the retrieval mechanism can learn to recognize patterns in language from a smaller dataset.\n",
      "\n",
      "However, RAG also has some limitations and challenges, such as:\n",
      "\n",
      "* Retrieval quality: The quality of the retrieved documents can significantly impact the performance of the RAG model.\n",
      "* Document ranking: The ranking of retrieved documents can be challenging, especially when there are multiple relevant documents with similar rankings.\n",
      "* Generation quality: While the retrieval component improves accuracy, the generation component may still struggle to produce high-quality text that is contextually relevant and accurate.\n",
      "\n",
      "Overall, RAG has shown promising results in various conversational AI applications, such as chatbots, virtual assistants, and question-answering systems.\n"
     ]
    }
   ],
   "source": [
    "llm = Ollama(model=\"llama3.2\")  # Replace with \"llama3\", \"gemma\", etc.\n",
    "\n",
    "response = llm.invoke(\"What is Retrieval-Augmented Generation (RAG)?\")\n",
    "print(response)\n"
   ]
  },
  {
   "cell_type": "code",
   "execution_count": 3,
   "metadata": {},
   "outputs": [
    {
     "name": "stderr",
     "output_type": "stream",
     "text": [
      "/tmp/ipykernel_15278/1177119939.py:9: LangChainDeprecationWarning: The class `Chroma` was deprecated in LangChain 0.2.9 and will be removed in 1.0. An updated version of the class exists in the :class:`~langchain-chroma package and should be used instead. To use it run `pip install -U :class:`~langchain-chroma` and import as `from :class:`~langchain_chroma import Chroma``.\n",
      "  vector_store = Chroma(persist_directory=\"./data_base/chroma_db\", embedding_function=embeddings)\n"
     ]
    }
   ],
   "source": [
    "from langchain_community.vectorstores import Chroma\n",
    "from langchain.embeddings import HuggingFaceEmbeddings\n",
    "\n",
    "# Load embedding model\n",
    "# embeddings = HuggingFaceEmbeddings(model_name=\"all-MiniLM-L6-v2\")\n",
    "embeddings = OllamaEmbeddings(model=\"llama3.2\")\n",
    "\n",
    "# Create Chroma vector store\n",
    "vector_store = Chroma(persist_directory=\"./data_base/chroma_db\", embedding_function=embeddings)\n"
   ]
  },
  {
   "cell_type": "code",
   "execution_count": 24,
   "metadata": {},
   "outputs": [],
   "source": [
    "embeddings = OllamaEmbeddings(model=\"llama3.2\")"
   ]
  },
  {
   "cell_type": "code",
   "execution_count": 25,
   "metadata": {},
   "outputs": [],
   "source": [
    "vector_store = InMemoryVectorStore(embeddings)"
   ]
  },
  {
   "cell_type": "code",
   "execution_count": 18,
   "metadata": {},
   "outputs": [],
   "source": [
    "# Load and chunk contents of the blog\n",
    "loader = WebBaseLoader(\n",
    "    # web_paths=(\"https://lilianweng.github.io/posts/2023-06-23-agent/\",),\n",
    "    web_paths=(\"https://www.bbc.com/news/articles/cevx7lkznm1o\",),\n",
    "    bs_kwargs=dict(\n",
    "        parse_only=bs4.SoupStrainer(\n",
    "            # data_component_=(\"headline-block\", \"text-block\")\n",
    "            attrs={\"data-component\": [\"headline-block\", \"text-block\"]}\n",
    "            #class_=(\"post-content\", \"post-title\", \"post-header\")\n",
    "        )\n",
    "    ),\n",
    ")\n",
    "docs = loader.load()"
   ]
  },
  {
   "cell_type": "code",
   "execution_count": 19,
   "metadata": {},
   "outputs": [
    {
     "data": {
      "text/plain": [
       "[Document(metadata={'source': 'https://www.bbc.com/news/articles/cevx7lkznm1o'}, page_content='Tornadoes and dust storms leave at least 34 dead in southern USAt least 34 people have died in the US after violent tornadoes tore through several south-eastern states, flipping cars and flattening homes.In Kansas, a dust storm on Friday afternoon caused a crash with more than 50 vehicles, killing at least 8 people. Texas saw a similar mass pile-up.A state of emergency has been declared in several states, including Arkansas, Georgia and Oklahoma, where more than 100 wildfires are raging.A third day of severe weather is expected on Sunday, with flash flooding and more tornado warnings issued across the region. The National Weather Service (NWS) warned of \"intense to violent\" tornadoes, describing the situation as \"particularly dangerous\".\"Get to the sturdiest structure you have access to and remain in place until the storms pass,\" the NWS told residents in Alabama on Saturday night, when multiple tornado warnings were issued.At least 250,000 properties across the US were without power on Sunday morning, according to tracker PowerOutage.In Missouri, where at least 12 people died, Governor Mike Kehoe said the state had been \"devastated by severe storms... leaving homes destroyed and lives lost\".Initial reports showed 19 tornadoes had struck 25 counties in the state, its emergency management agency said.A home belonging to one of the those killed was torn apart.\"It was unrecognisable as a home. Just a debris field,\" Coroner Jim Akers of Butler County told the BBC\\'s US partner, CBS News.\"The floor was upside down. We were walking on walls.\"Alicia Wilson, who was evacuated from her Missouri home, told local TV station KSDK: \"It was the scariest thing I\\'ve ever been through - it was so fast, our ears were all about to burst.\"A woman in Mississippi described how terrified her daughter was.\"All I could hear was my six year old screaming that she didn\\'t want to die - you don\\'t want to hear that coming out of your baby\\'s mouth,\" Jericho McCoy said.In Texas, a dust storm caused a pile-up of about 38 cars, which killed at least for people, local officials told AFP.\"It\\'s the worst I\\'ve ever seen,\" Sgt Cindy Barkley, of the state\\'s public safety department, told reporters.\"We couldn\\'t tell that they were all together until the dust kind of settled.\"The destructive storms fuelled many wildfires in several central states, including Oklahoma, where more than 130 fires were reported on Friday, the state\\'s department of emergency management said.As of Saturday, it said there had been 112 fire-related injuries reported by hospitals in the state.Governor Kevin Stitt, who visited his own ranch to find he had \"lost everything to the fires\", said the damage in the state was unbelievable.\"Oklahomans, we are in this together and we will build back stronger,\" he said.Tornadoes form when moist, warm air rises, mixing with cold air above to form thunderclouds. Winds blowing from different directions cause the air to rotate, creating a vortex of air that moves upwards.Several states, including Texas, Louisiana, Oklahoma and Kansas, lie within so-called Tornado Alley - a path frequently hit by the weather phenomenon, as the geography is ideal for their formation.Peak tornado season in the region is from May to June - but meteorologists caution that they can occur at any time of year.Have you been personally affected by the tornadoes in the US?Please get in touch but only if it is safe to do so.You can also get in touch in the following ways:Use this formEmail\\u202fhaveyoursay@bbc.co.ukWhatsApp:\\u202f+44 7756 165803Upload your pictures and videoPlease read our\\u202fterms & conditions\\u202fand\\u202fprivacy policyIn some cases a selection of your comments and questions will be published, displaying your name and location as you provide it unless you state otherwise. Your contact details will never be published.')]"
      ]
     },
     "execution_count": 19,
     "metadata": {},
     "output_type": "execute_result"
    }
   ],
   "source": [
    "docs"
   ]
  },
  {
   "cell_type": "code",
   "execution_count": 26,
   "metadata": {},
   "outputs": [],
   "source": [
    "text_splitter = RecursiveCharacterTextSplitter(chunk_size=200, chunk_overlap=50)\n",
    "all_splits = text_splitter.split_documents(docs)\n",
    "\n",
    "# Index chunks\n",
    "_ = vector_store.add_documents(documents=all_splits)"
   ]
  },
  {
   "cell_type": "code",
   "execution_count": 27,
   "metadata": {},
   "outputs": [
    {
     "data": {
      "text/plain": [
       "[Document(metadata={'source': 'https://www.bbc.com/news/articles/cevx7lkznm1o'}, page_content='Tornadoes and dust storms leave at least 34 dead in southern USAt least 34 people have died in the US after violent tornadoes tore through several south-eastern states, flipping cars and flattening'),\n",
       " Document(metadata={'source': 'https://www.bbc.com/news/articles/cevx7lkznm1o'}, page_content='states, flipping cars and flattening homes.In Kansas, a dust storm on Friday afternoon caused a crash with more than 50 vehicles, killing at least 8 people. Texas saw a similar mass pile-up.A state'),\n",
       " Document(metadata={'source': 'https://www.bbc.com/news/articles/cevx7lkznm1o'}, page_content='people. Texas saw a similar mass pile-up.A state of emergency has been declared in several states, including Arkansas, Georgia and Oklahoma, where more than 100 wildfires are raging.A third day of'),\n",
       " Document(metadata={'source': 'https://www.bbc.com/news/articles/cevx7lkznm1o'}, page_content='more than 100 wildfires are raging.A third day of severe weather is expected on Sunday, with flash flooding and more tornado warnings issued across the region. The National Weather Service (NWS)'),\n",
       " Document(metadata={'source': 'https://www.bbc.com/news/articles/cevx7lkznm1o'}, page_content='the region. The National Weather Service (NWS) warned of \"intense to violent\" tornadoes, describing the situation as \"particularly dangerous\".\"Get to the sturdiest structure you have access to and'),\n",
       " Document(metadata={'source': 'https://www.bbc.com/news/articles/cevx7lkznm1o'}, page_content='to the sturdiest structure you have access to and remain in place until the storms pass,\" the NWS told residents in Alabama on Saturday night, when multiple tornado warnings were issued.At least'),\n",
       " Document(metadata={'source': 'https://www.bbc.com/news/articles/cevx7lkznm1o'}, page_content='multiple tornado warnings were issued.At least 250,000 properties across the US were without power on Sunday morning, according to tracker PowerOutage.In Missouri, where at least 12 people died,'),\n",
       " Document(metadata={'source': 'https://www.bbc.com/news/articles/cevx7lkznm1o'}, page_content='Missouri, where at least 12 people died, Governor Mike Kehoe said the state had been \"devastated by severe storms... leaving homes destroyed and lives lost\".Initial reports showed 19 tornadoes had'),\n",
       " Document(metadata={'source': 'https://www.bbc.com/news/articles/cevx7lkznm1o'}, page_content='lost\".Initial reports showed 19 tornadoes had struck 25 counties in the state, its emergency management agency said.A home belonging to one of the those killed was torn apart.\"It was unrecognisable'),\n",
       " Document(metadata={'source': 'https://www.bbc.com/news/articles/cevx7lkznm1o'}, page_content='killed was torn apart.\"It was unrecognisable as a home. Just a debris field,\" Coroner Jim Akers of Butler County told the BBC\\'s US partner, CBS News.\"The floor was upside down. We were walking on'),\n",
       " Document(metadata={'source': 'https://www.bbc.com/news/articles/cevx7lkznm1o'}, page_content='floor was upside down. We were walking on walls.\"Alicia Wilson, who was evacuated from her Missouri home, told local TV station KSDK: \"It was the scariest thing I\\'ve ever been through - it was so'),\n",
       " Document(metadata={'source': 'https://www.bbc.com/news/articles/cevx7lkznm1o'}, page_content='scariest thing I\\'ve ever been through - it was so fast, our ears were all about to burst.\"A woman in Mississippi described how terrified her daughter was.\"All I could hear was my six year old'),\n",
       " Document(metadata={'source': 'https://www.bbc.com/news/articles/cevx7lkznm1o'}, page_content='was.\"All I could hear was my six year old screaming that she didn\\'t want to die - you don\\'t want to hear that coming out of your baby\\'s mouth,\" Jericho McCoy said.In Texas, a dust storm caused a'),\n",
       " Document(metadata={'source': 'https://www.bbc.com/news/articles/cevx7lkznm1o'}, page_content='McCoy said.In Texas, a dust storm caused a pile-up of about 38 cars, which killed at least for people, local officials told AFP.\"It\\'s the worst I\\'ve ever seen,\" Sgt Cindy Barkley, of the state\\'s'),\n",
       " Document(metadata={'source': 'https://www.bbc.com/news/articles/cevx7lkznm1o'}, page_content='ever seen,\" Sgt Cindy Barkley, of the state\\'s public safety department, told reporters.\"We couldn\\'t tell that they were all together until the dust kind of settled.\"The destructive storms fuelled'),\n",
       " Document(metadata={'source': 'https://www.bbc.com/news/articles/cevx7lkznm1o'}, page_content='kind of settled.\"The destructive storms fuelled many wildfires in several central states, including Oklahoma, where more than 130 fires were reported on Friday, the state\\'s department of emergency'),\n",
       " Document(metadata={'source': 'https://www.bbc.com/news/articles/cevx7lkznm1o'}, page_content=\"on Friday, the state's department of emergency management said.As of Saturday, it said there had been 112 fire-related injuries reported by hospitals in the state.Governor Kevin Stitt, who visited\"),\n",
       " Document(metadata={'source': 'https://www.bbc.com/news/articles/cevx7lkznm1o'}, page_content='in the state.Governor Kevin Stitt, who visited his own ranch to find he had \"lost everything to the fires\", said the damage in the state was unbelievable.\"Oklahomans, we are in this together and we'),\n",
       " Document(metadata={'source': 'https://www.bbc.com/news/articles/cevx7lkznm1o'}, page_content='we are in this together and we will build back stronger,\" he said.Tornadoes form when moist, warm air rises, mixing with cold air above to form thunderclouds. Winds blowing from different directions'),\n",
       " Document(metadata={'source': 'https://www.bbc.com/news/articles/cevx7lkznm1o'}, page_content='Winds blowing from different directions cause the air to rotate, creating a vortex of air that moves upwards.Several states, including Texas, Louisiana, Oklahoma and Kansas, lie within so-called'),\n",
       " Document(metadata={'source': 'https://www.bbc.com/news/articles/cevx7lkznm1o'}, page_content='Oklahoma and Kansas, lie within so-called Tornado Alley - a path frequently hit by the weather phenomenon, as the geography is ideal for their formation.Peak tornado season in the region is from May'),\n",
       " Document(metadata={'source': 'https://www.bbc.com/news/articles/cevx7lkznm1o'}, page_content='tornado season in the region is from May to June - but meteorologists caution that they can occur at any time of year.Have you been personally affected by the tornadoes in the US?Please get in touch'),\n",
       " Document(metadata={'source': 'https://www.bbc.com/news/articles/cevx7lkznm1o'}, page_content='by the tornadoes in the US?Please get in touch but only if it is safe to do so.You can also get in touch in the following ways:Use this formEmail\\u202fhaveyoursay@bbc.co.ukWhatsApp:\\u202f+44 7756 165803Upload'),\n",
       " Document(metadata={'source': 'https://www.bbc.com/news/articles/cevx7lkznm1o'}, page_content='7756 165803Upload your pictures and videoPlease read our\\u202fterms & conditions\\u202fand\\u202fprivacy policyIn some cases a selection of your comments and questions will be published, displaying your name and'),\n",
       " Document(metadata={'source': 'https://www.bbc.com/news/articles/cevx7lkznm1o'}, page_content='will be published, displaying your name and location as you provide it unless you state otherwise. Your contact details will never be published.')]"
      ]
     },
     "execution_count": 27,
     "metadata": {},
     "output_type": "execute_result"
    }
   ],
   "source": [
    "all_splits"
   ]
  },
  {
   "cell_type": "code",
   "execution_count": 22,
   "metadata": {},
   "outputs": [
    {
     "name": "stderr",
     "output_type": "stream",
     "text": [
      "/home/athip/psu/learning_AI/env/pytorch/lib/python3.11/site-packages/langsmith/client.py:253: LangSmithMissingAPIKeyWarning: API key must be provided when using hosted LangSmith API\n",
      "  warnings.warn(\n"
     ]
    }
   ],
   "source": [
    "# Define prompt for question-answering\n",
    "prompt = hub.pull(\"rlm/rag-prompt\")"
   ]
  },
  {
   "cell_type": "code",
   "execution_count": 29,
   "metadata": {},
   "outputs": [
    {
     "name": "stdout",
     "output_type": "stream",
     "text": [
      "[Document(id='5ac09059-9599-433f-8d54-ad16776f2103', metadata={'source': 'https://www.bbc.com/news/articles/cevx7lkznm1o'}, page_content='to the sturdiest structure you have access to and remain in place until the storms pass,\" the NWS told residents in Alabama on Saturday night, when multiple tornado warnings were issued.At least'), Document(id='15bd7b96-4c43-4718-b5c0-817d7d240114', metadata={'source': 'https://www.bbc.com/news/articles/cevx7lkznm1o'}, page_content='states, flipping cars and flattening homes.In Kansas, a dust storm on Friday afternoon caused a crash with more than 50 vehicles, killing at least 8 people. Texas saw a similar mass pile-up.A state'), Document(id='48dc032f-dd3a-4cc1-8b96-138cbcdbca9e', metadata={'source': 'https://www.bbc.com/news/articles/cevx7lkznm1o'}, page_content='ever seen,\" Sgt Cindy Barkley, of the state\\'s public safety department, told reporters.\"We couldn\\'t tell that they were all together until the dust kind of settled.\"The destructive storms fuelled'), Document(id='1df7b20b-333c-490d-958c-c32646441501', metadata={'source': 'https://www.bbc.com/news/articles/cevx7lkznm1o'}, page_content='Oklahoma and Kansas, lie within so-called Tornado Alley - a path frequently hit by the weather phenomenon, as the geography is ideal for their formation.Peak tornado season in the region is from May'), Document(id='3c90bbf7-dd75-4a57-88db-6943d03c4225', metadata={'source': 'https://www.bbc.com/news/articles/cevx7lkznm1o'}, page_content='multiple tornado warnings were issued.At least 250,000 properties across the US were without power on Sunday morning, according to tracker PowerOutage.In Missouri, where at least 12 people died,')]\n",
      "---------------------------------------------------------------------\n",
      "to the sturdiest structure you have access to and remain in place until the storms pass,\" the NWS told residents in Alabama on Saturday night, when multiple tornado warnings were issued.At least\n",
      "\n",
      "states, flipping cars and flattening homes.In Kansas, a dust storm on Friday afternoon caused a crash with more than 50 vehicles, killing at least 8 people. Texas saw a similar mass pile-up.A state\n",
      "\n",
      "ever seen,\" Sgt Cindy Barkley, of the state's public safety department, told reporters.\"We couldn't tell that they were all together until the dust kind of settled.\"The destructive storms fuelled\n",
      "\n",
      "Oklahoma and Kansas, lie within so-called Tornado Alley - a path frequently hit by the weather phenomenon, as the geography is ideal for their formation.Peak tornado season in the region is from May\n",
      "\n",
      "multiple tornado warnings were issued.At least 250,000 properties across the US were without power on Sunday morning, according to tracker PowerOutage.In Missouri, where at least 12 people died,\n",
      "---------------------------------------------------------------------\n",
      "messages=[HumanMessage(content='You are an assistant for question-answering tasks. Use the following pieces of retrieved context to answer the question. If you don\\'t know the answer, just say that you don\\'t know. Use three sentences maximum and keep the answer concise.\\nQuestion: How many people died in missouri \\nContext: to the sturdiest structure you have access to and remain in place until the storms pass,\" the NWS told residents in Alabama on Saturday night, when multiple tornado warnings were issued.At least\\n\\nstates, flipping cars and flattening homes.In Kansas, a dust storm on Friday afternoon caused a crash with more than 50 vehicles, killing at least 8 people. Texas saw a similar mass pile-up.A state\\n\\never seen,\" Sgt Cindy Barkley, of the state\\'s public safety department, told reporters.\"We couldn\\'t tell that they were all together until the dust kind of settled.\"The destructive storms fuelled\\n\\nOklahoma and Kansas, lie within so-called Tornado Alley - a path frequently hit by the weather phenomenon, as the geography is ideal for their formation.Peak tornado season in the region is from May\\n\\nmultiple tornado warnings were issued.At least 250,000 properties across the US were without power on Sunday morning, according to tracker PowerOutage.In Missouri, where at least 12 people died, \\nAnswer:', additional_kwargs={}, response_metadata={})]\n",
      "<class 'langchain_core.prompt_values.ChatPromptValue'>\n",
      "---------------------------------------------------------------------\n",
      "I can answer that. At least 12 people died in Missouri due to severe storms and dust storms. I do not have information on a specific number of fatalities beyond this statement.\n"
     ]
    }
   ],
   "source": [
    "# Define state for application\n",
    "class State(TypedDict):\n",
    "    question: str\n",
    "    context: List[Document]\n",
    "    answer: str\n",
    "\n",
    "\n",
    "# Define application steps\n",
    "def retrieve(state: State):\n",
    "    retrieved_docs = vector_store.similarity_search(state[\"question\"], k=5)\n",
    "    print(retrieved_docs)\n",
    "    print(\"---------------------------------------------------------------------\")\n",
    "    return {\"context\": retrieved_docs}\n",
    "\n",
    "\n",
    "def generate(state: State):\n",
    "    docs_content = \"\\n\\n\".join(doc.page_content for doc in state[\"context\"])\n",
    "    print(docs_content)\n",
    "    print(\"---------------------------------------------------------------------\")\n",
    "    messages = prompt.invoke({\"question\": state[\"question\"], \"context\": docs_content})\n",
    "    print(messages)\n",
    "    print(type(messages))\n",
    "    print(\"---------------------------------------------------------------------\")\n",
    "    response = llm.invoke(messages)\n",
    "    return {\"answer\": response}\n",
    "\n",
    "\n",
    "# Compile application and test\n",
    "graph_builder = StateGraph(State).add_sequence([retrieve, generate])\n",
    "graph_builder.add_edge(START, \"retrieve\")\n",
    "graph = graph_builder.compile()\n",
    "\n",
    "response = graph.invoke({\"question\": \"How many people died in missouri\"})\n",
    "print(response[\"answer\"])"
   ]
  },
  {
   "cell_type": "code",
   "execution_count": null,
   "metadata": {},
   "outputs": [],
   "source": []
  }
 ],
 "metadata": {
  "kernelspec": {
   "display_name": "pytorch",
   "language": "python",
   "name": "python3"
  },
  "language_info": {
   "codemirror_mode": {
    "name": "ipython",
    "version": 3
   },
   "file_extension": ".py",
   "mimetype": "text/x-python",
   "name": "python",
   "nbconvert_exporter": "python",
   "pygments_lexer": "ipython3",
   "version": "3.11.2"
  }
 },
 "nbformat": 4,
 "nbformat_minor": 2
}
