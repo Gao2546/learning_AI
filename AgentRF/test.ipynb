{
 "cells": [
  {
   "cell_type": "code",
   "execution_count": 1,
   "id": "c03cc686",
   "metadata": {},
   "outputs": [
    {
     "name": "stdout",
     "output_type": "stream",
     "text": [
      "pygame 2.6.1 (SDL 2.28.4, Python 3.11.2)\n",
      "Hello from the pygame community. https://www.pygame.org/contribute.html\n"
     ]
    }
   ],
   "source": [
    "import torch\n",
    "import torch.nn as nn\n",
    "import torch.optim as optim\n",
    "import torch.nn.functional as F\n",
    "import torch.distributions as distributions\n",
    "import numpy as np\n",
    "import math\n",
    "from utils.utils import *\n",
    "from utils.nodes import *\n",
    "from WorldEnvironment.SnakeGame.SnakeEnv import envSnake\n",
    "from matplotlib import pyplot as plt"
   ]
  },
  {
   "cell_type": "code",
   "execution_count": 125,
   "id": "bac0f82f",
   "metadata": {},
   "outputs": [],
   "source": [
    "action_prob = torch.tensor([0.10, 0.20, 0.30, 0.40])"
   ]
  },
  {
   "cell_type": "code",
   "execution_count": 95,
   "id": "5071badb",
   "metadata": {},
   "outputs": [],
   "source": [
    "dist = distributions.Categorical(action_prob)\n",
    "action = dist.sample()\n",
    "log_prob_action = dist.log_prob(action)\n",
    "entropy = dist.entropy()"
   ]
  },
  {
   "cell_type": "code",
   "execution_count": 126,
   "id": "5d7a61a0",
   "metadata": {},
   "outputs": [],
   "source": [
    "sample = {0: 0,\n",
    "          1: 0,\n",
    "          2: 0,\n",
    "          3: 0}\n",
    "dist = distributions.Categorical(action_prob)\n",
    "for i in range(10000):\n",
    "    action = dist.sample()\n",
    "    sample[action.item()] += 1"
   ]
  },
  {
   "cell_type": "code",
   "execution_count": 132,
   "id": "fb8c816e",
   "metadata": {},
   "outputs": [
    {
     "data": {
      "text/plain": [
       "tensor(3)"
      ]
     },
     "execution_count": 132,
     "metadata": {},
     "output_type": "execute_result"
    }
   ],
   "source": [
    "action = dist.sample()\n",
    "action"
   ]
  },
  {
   "cell_type": "code",
   "execution_count": 139,
   "id": "39daf989",
   "metadata": {},
   "outputs": [
    {
     "data": {
      "text/plain": [
       "tensor(-0.9163)"
      ]
     },
     "execution_count": 139,
     "metadata": {},
     "output_type": "execute_result"
    }
   ],
   "source": [
    "dist.log_prob(action)"
   ]
  },
  {
   "cell_type": "code",
   "execution_count": 150,
   "id": "a48be0f7",
   "metadata": {},
   "outputs": [
    {
     "data": {
      "text/plain": [
       "1.000000500029089e-06"
      ]
     },
     "execution_count": 150,
     "metadata": {},
     "output_type": "execute_result"
    }
   ],
   "source": [
    "-1*np.log(0.999999)"
   ]
  },
  {
   "cell_type": "code",
   "execution_count": 127,
   "id": "e951448a",
   "metadata": {},
   "outputs": [
    {
     "data": {
      "text/plain": [
       "{0: 1005, 1: 1985, 2: 3024, 3: 3986}"
      ]
     },
     "execution_count": 127,
     "metadata": {},
     "output_type": "execute_result"
    }
   ],
   "source": [
    "sample"
   ]
  },
  {
   "cell_type": "code",
   "execution_count": 96,
   "id": "67b8f76f",
   "metadata": {},
   "outputs": [
    {
     "data": {
      "text/plain": [
       "tensor(2)"
      ]
     },
     "execution_count": 96,
     "metadata": {},
     "output_type": "execute_result"
    }
   ],
   "source": [
    "action"
   ]
  },
  {
   "cell_type": "code",
   "execution_count": 90,
   "id": "f58e7880",
   "metadata": {},
   "outputs": [
    {
     "data": {
      "text/plain": [
       "tensor(1.2799)"
      ]
     },
     "execution_count": 90,
     "metadata": {},
     "output_type": "execute_result"
    }
   ],
   "source": [
    "entropy"
   ]
  },
  {
   "cell_type": "code",
   "execution_count": 119,
   "id": "fcf6e44b",
   "metadata": {},
   "outputs": [
    {
     "name": "stdout",
     "output_type": "stream",
     "text": [
      "Sampled index: 2\n",
      "Log prob of category 2: -0.5108255743980408\n",
      "Entropy: 0.897945761680603\n"
     ]
    }
   ],
   "source": [
    "import torch\n",
    "from torch.distributions import Categorical\n",
    "\n",
    "# Define probabilities for 3 categories\n",
    "probs = torch.tensor([0.1, 0.3, 0.6])\n",
    "dist = Categorical(probs=probs)\n",
    "\n",
    "# Sample one value\n",
    "sample = dist.sample()\n",
    "print(\"Sampled index:\", sample.item())\n",
    "\n",
    "# Get log probability of a specific category\n",
    "log_prob = dist.log_prob(torch.tensor(2))\n",
    "print(\"Log prob of category 2:\", log_prob.item())\n",
    "\n",
    "# Entropy of the distribution\n",
    "print(\"Entropy:\", dist.entropy().item())\n"
   ]
  },
  {
   "cell_type": "code",
   "execution_count": 148,
   "id": "209a2930",
   "metadata": {},
   "outputs": [
    {
     "data": {
      "text/plain": [
       "1.99"
      ]
     },
     "execution_count": 148,
     "metadata": {},
     "output_type": "execute_result"
    }
   ],
   "source": [
    "1 + 1*0.99"
   ]
  },
  {
   "cell_type": "code",
   "execution_count": 149,
   "id": "5a29caff",
   "metadata": {},
   "outputs": [
    {
     "data": {
      "text/plain": [
       "2.9701"
      ]
     },
     "execution_count": 149,
     "metadata": {},
     "output_type": "execute_result"
    }
   ],
   "source": [
    "1.99*0.99 + 1"
   ]
  },
  {
   "cell_type": "code",
   "execution_count": 8,
   "id": "3566f34c",
   "metadata": {},
   "outputs": [
    {
     "name": "stdout",
     "output_type": "stream",
     "text": [
      "41864\n",
      "0.09999467712752443\n"
     ]
    }
   ],
   "source": [
    "st = 1.0\n",
    "for i in range(50000):\n",
    "    st = st*0.999945\n",
    "    if st < 0.1:\n",
    "        print(i)\n",
    "        print(st)\n",
    "        break"
   ]
  },
  {
   "cell_type": "code",
   "execution_count": null,
   "id": "90bbe85c",
   "metadata": {},
   "outputs": [],
   "source": []
  }
 ],
 "metadata": {
  "kernelspec": {
   "display_name": "pytorch",
   "language": "python",
   "name": "python3"
  },
  "language_info": {
   "codemirror_mode": {
    "name": "ipython",
    "version": 3
   },
   "file_extension": ".py",
   "mimetype": "text/x-python",
   "name": "python",
   "nbconvert_exporter": "python",
   "pygments_lexer": "ipython3",
   "version": "3.11.2"
  }
 },
 "nbformat": 4,
 "nbformat_minor": 5
}
