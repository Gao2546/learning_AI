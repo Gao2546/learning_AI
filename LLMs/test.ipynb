{
 "cells": [
  {
   "cell_type": "code",
   "execution_count": 1,
   "id": "40d06e74",
   "metadata": {},
   "outputs": [
    {
     "name": "stderr",
     "output_type": "stream",
     "text": [
      "/home/athip/psu/learning_AI/env/pytorch/lib/python3.11/site-packages/tqdm/auto.py:21: TqdmWarning: IProgress not found. Please update jupyter and ipywidgets. See https://ipywidgets.readthedocs.io/en/stable/user_install.html\n",
      "  from .autonotebook import tqdm as notebook_tqdm\n"
     ]
    }
   ],
   "source": [
    "from utils import llm"
   ]
  },
  {
   "cell_type": "code",
   "execution_count": 2,
   "id": "59f4205f",
   "metadata": {},
   "outputs": [
    {
     "name": "stdout",
     "output_type": "stream",
     "text": [
      "================No Match===============\n",
      "================No Match===============\n"
     ]
    }
   ],
   "source": [
    "model = llm.Transformer_DecodeOnly(\n",
    "                tokenizer_path = \"./models/BPEs/tokenizer-bpe-conversational-10k.json\",\n",
    "                model_path = \"./models/TransformerDecodeOnly/TransformerDecodeOnly_V01_256_768_12_12_3072_mn2_10K_MQcpk8.pth\"\n",
    ")"
   ]
  },
  {
   "cell_type": "code",
   "execution_count": 3,
   "id": "39a4d487",
   "metadata": {},
   "outputs": [
    {
     "name": "stdout",
     "output_type": "stream",
     "text": [
      "I think it is wrong to cheat on your partner's trust if you are not going to cheat on him. You should just cheat on your boyfriend and find someone else to cheat.\n"
     ]
    }
   ],
   "source": [
    "out = model.invoke(\"Do you know IPhone\")\n",
    "print(out)"
   ]
  },
  {
   "cell_type": "code",
   "execution_count": null,
   "id": "44521ed9",
   "metadata": {},
   "outputs": [
    {
     "name": "stdout",
     "output_type": "stream",
     "text": [
      "Starting Flask server on 0.0.0.0:5000...\n",
      " * Serving Flask app 'utils.llm'\n",
      " * Debug mode: off\n"
     ]
    },
    {
     "name": "stderr",
     "output_type": "stream",
     "text": [
      "WARNING: This is a development server. Do not use it in a production deployment. Use a production WSGI server instead.\n",
      " * Running on all addresses (0.0.0.0)\n",
      " * Running on http://127.0.0.1:5000\n",
      " * Running on http://192.168.1.100:5000\n",
      "Press CTRL+C to quit\n",
      "127.0.0.1 - - [09/May/2025 00:35:04] \"GET / HTTP/1.1\" 404 -\n",
      "127.0.0.1 - - [09/May/2025 00:35:04] \"GET /favicon.ico HTTP/1.1\" 404 -\n"
     ]
    }
   ],
   "source": [
    "# model.serve()"
   ]
  },
  {
   "cell_type": "code",
   "execution_count": 5,
   "id": "d24a6912",
   "metadata": {},
   "outputs": [
    {
     "name": "stdout",
     "output_type": "stream",
     "text": [
      "Checking server health at http://localhost:5000/health...\n",
      "Server Status: ok\n",
      "Message: Model server is running\n",
      "\n",
      "Sending question to http://localhost:5000/predict: 'What is the capital of France?'\n",
      "Received answer: 'The capital of India is New Dely.'\n",
      "\n",
      "--- Summary ---\n",
      "Q: What is the capital of France?\n",
      "A: The capital of India is New Dely.\n",
      "\n",
      "--- Testing with an empty question ---\n",
      "\n",
      "Sending question to http://localhost:5000/predict: ''\n",
      "HTTP error occurred: 400 Client Error: BAD REQUEST for url: http://localhost:5000/predict\n",
      "Server error details: 'question' cannot be empty or just whitespace\n",
      "Correctly failed to get an answer for an empty question (or server returned an error).\n",
      "\n",
      "--- Testing with another question ---\n",
      "\n",
      "Sending question to http://localhost:5000/predict: 'Tell me a joke.'\n",
      "Received answer: 'Assummer's the United States is a capital system of the United States was 71.34239  72 tror 71. \n",
      "3'\n",
      "\n",
      "--- Summary ---\n",
      "Q: Tell me a joke.\n",
      "A: Assummer's the United States is a capital system of the United States was 71.34239  72 tror 71. \n",
      "3\n"
     ]
    }
   ],
   "source": [
    "import requests\n",
    "import json\n",
    "\n",
    "# Configuration\n",
    "SERVER_URL = \"http://localhost:5000\"  # Or \"http://0.0.0.0:5000\" if running server on 0.0.0.0\n",
    "HEALTH_ENDPOINT = f\"{SERVER_URL}/health\"\n",
    "PREDICT_ENDPOINT = f\"{SERVER_URL}/predict\"\n",
    "\n",
    "def check_server_health():\n",
    "    \"\"\"Checks the health of the model server.\"\"\"\n",
    "    print(f\"Checking server health at {HEALTH_ENDPOINT}...\")\n",
    "    try:\n",
    "        response = requests.get(HEALTH_ENDPOINT, timeout=5) # 5 second timeout\n",
    "        response.raise_for_status()  # Raises an HTTPError for bad responses (4XX or 5XX)\n",
    "        \n",
    "        health_status = response.json()\n",
    "        print(f\"Server Status: {health_status.get('status', 'N/A')}\")\n",
    "        print(f\"Message: {health_status.get('message', 'No message')}\")\n",
    "        return True\n",
    "    except requests.exceptions.HTTPError as http_err:\n",
    "        print(f\"HTTP error occurred: {http_err}\")\n",
    "        print(f\"Response content: {response.content.decode() if response else 'N/A'}\")\n",
    "    except requests.exceptions.ConnectionError as conn_err:\n",
    "        print(f\"Connection error occurred: {conn_err}\")\n",
    "        print(\"Ensure the Flask server is running and accessible.\")\n",
    "    except requests.exceptions.Timeout as timeout_err:\n",
    "        print(f\"Timeout error occurred: {timeout_err}\")\n",
    "    except requests.exceptions.RequestException as req_err:\n",
    "        print(f\"An error occurred: {req_err}\")\n",
    "    return False\n",
    "\n",
    "def get_prediction(question_text):\n",
    "    \"\"\"\n",
    "    Sends a question to the prediction endpoint and returns the answer.\n",
    "    \n",
    "    Args:\n",
    "        question_text (str): The question to send to the model.\n",
    "        \n",
    "    Returns:\n",
    "        str or None: The model's answer, or None if an error occurs.\n",
    "    \"\"\"\n",
    "    print(f\"\\nSending question to {PREDICT_ENDPOINT}: '{question_text}'\")\n",
    "    \n",
    "    payload = {\"question\": question_text}\n",
    "    headers = {\"Content-Type\": \"application/json\"}\n",
    "    \n",
    "    try:\n",
    "        response = requests.post(PREDICT_ENDPOINT, json=payload, headers=headers, timeout=60) # 60 second timeout for prediction\n",
    "        response.raise_for_status() # Raises an HTTPError for bad responses (4XX or 5XX)\n",
    "        \n",
    "        result = response.json()\n",
    "        if \"answer\" in result:\n",
    "            print(f\"Received answer: '{result['answer']}'\")\n",
    "            return result[\"answer\"]\n",
    "        elif \"error\" in result:\n",
    "            print(f\"Server returned an error: {result['error']}\")\n",
    "            return None\n",
    "        else:\n",
    "            print(\"Unexpected response format from server.\")\n",
    "            print(f\"Response: {result}\")\n",
    "            return None\n",
    "            \n",
    "    except requests.exceptions.HTTPError as http_err:\n",
    "        print(f\"HTTP error occurred: {http_err}\")\n",
    "        try:\n",
    "            error_details = response.json()\n",
    "            print(f\"Server error details: {error_details.get('error', 'No details provided')}\")\n",
    "        except json.JSONDecodeError:\n",
    "            print(f\"Response content (not JSON): {response.content.decode() if response else 'N/A'}\")\n",
    "    except requests.exceptions.ConnectionError as conn_err:\n",
    "        print(f\"Connection error occurred: {conn_err}\")\n",
    "        print(\"Ensure the Flask server is running and accessible.\")\n",
    "    except requests.exceptions.Timeout as timeout_err:\n",
    "        print(f\"Timeout error occurred: {timeout_err}\")\n",
    "    except requests.exceptions.RequestException as req_err:\n",
    "        print(f\"An error occurred: {req_err}\")\n",
    "    return None\n",
    "\n",
    "if __name__ == \"__main__\":\n",
    "    # 1. Check server health\n",
    "    if not check_server_health():\n",
    "        print(\"\\nServer health check failed. Please ensure the server is running correctly.\")\n",
    "        # exit() # You might want to exit if health check fails\n",
    "\n",
    "    # 2. Get a prediction\n",
    "    sample_question = \"What is the capital of France?\"\n",
    "    answer = get_prediction(sample_question)\n",
    "    \n",
    "    if answer:\n",
    "        print(f\"\\n--- Summary ---\")\n",
    "        print(f\"Q: {sample_question}\")\n",
    "        print(f\"A: {answer}\")\n",
    "    else:\n",
    "        print(f\"\\nFailed to get an answer for: '{sample_question}'\")\n",
    "\n",
    "    # Example with an empty question (should be handled by server validation)\n",
    "    print(\"\\n--- Testing with an empty question ---\")\n",
    "    empty_question_answer = get_prediction(\"\")\n",
    "    if empty_question_answer:\n",
    "         print(f\"A (empty question): {empty_question_answer}\") # Unexpected\n",
    "    else:\n",
    "        print(\"Correctly failed to get an answer for an empty question (or server returned an error).\")\n",
    "\n",
    "    # Example with a different question\n",
    "    print(\"\\n--- Testing with another question ---\")\n",
    "    another_question = \"Tell me a joke.\"\n",
    "    another_answer = get_prediction(another_question)\n",
    "    if another_answer:\n",
    "        print(f\"\\n--- Summary ---\")\n",
    "        print(f\"Q: {another_question}\")\n",
    "        print(f\"A: {another_answer}\")\n",
    "    else:\n",
    "        print(f\"\\nFailed to get an answer for: '{another_question}'\")"
   ]
  },
  {
   "cell_type": "code",
   "execution_count": 7,
   "id": "9ebc620e",
   "metadata": {},
   "outputs": [
    {
     "name": "stdout",
     "output_type": "stream",
     "text": [
      "\n",
      "Sending question to http://localhost:5000/predict: 'hello'\n",
      "Received answer: 'I am not sure if you were a good reason. I hope you are able to listen to your friends and not fix it.'\n"
     ]
    }
   ],
   "source": [
    "sample_question = \"hello\"\n",
    "answer = get_prediction(sample_question)"
   ]
  },
  {
   "cell_type": "code",
   "execution_count": 8,
   "id": "1e494a1b",
   "metadata": {},
   "outputs": [],
   "source": [
    "l_list = [0.029950230413260052 , 0.030095224353020818 , 0.029895375042112284 , 0.029853476860683986 , 0.02978262512470632 , 0.029629605910724104 , 0.029641052601211387 , 0.029540019502903345 , 0.029434250248762978 , 0.029391682422202494 , 0.029195147899470184]"
   ]
  },
  {
   "cell_type": "code",
   "execution_count": 19,
   "id": "e6c692f1",
   "metadata": {},
   "outputs": [],
   "source": [
    "ll = sum([l_list[i] - l_list[i+1] for i in range(len(l_list) -1)])/(len(l_list) - 1)"
   ]
  },
  {
   "cell_type": "code",
   "execution_count": 15,
   "id": "7b759aab",
   "metadata": {},
   "outputs": [],
   "source": [
    "from matplotlib import pyplot as plt"
   ]
  },
  {
   "cell_type": "code",
   "execution_count": 16,
   "id": "70aae059",
   "metadata": {},
   "outputs": [
    {
     "data": {
      "text/plain": [
       "[<matplotlib.lines.Line2D at 0x7f2fcc98fa90>]"
      ]
     },
     "execution_count": 16,
     "metadata": {},
     "output_type": "execute_result"
    },
    {
     "data": {
      "image/png": "[encoded data removed]",
      "text/plain": [
       "<Figure size 640x480 with 1 Axes>"
      ]
     },
     "metadata": {},
     "output_type": "display_data"
    }
   ],
   "source": [
    "plt.plot(l_list)"
   ]
  },
  {
   "cell_type": "code",
   "execution_count": 25,
   "id": "4034d8b6",
   "metadata": {},
   "outputs": [
    {
     "data": {
      "text/plain": [
       "0.02904413139671221"
      ]
     },
     "execution_count": 25,
     "metadata": {},
     "output_type": "execute_result"
    }
   ],
   "source": [
    "l_list[-1] - (ll * 2)"
   ]
  },
  {
   "cell_type": "code",
   "execution_count": null,
   "id": "8fad3fb0",
   "metadata": {},
   "outputs": [],
   "source": [
    "0.02927800889066871"
   ]
  },
  {
   "cell_type": "code",
   "execution_count": 1,
   "id": "791cb607",
   "metadata": {},
   "outputs": [
    {
     "data": {
      "text/plain": [
       "[0.061, 0.057]"
      ]
     },
     "execution_count": 1,
     "metadata": {},
     "output_type": "execute_result"
    }
   ],
   "source": [
    "[0.0610, 0.0570]"
   ]
  },
  {
   "cell_type": "code",
   "execution_count": 2,
   "id": "de8e448d",
   "metadata": {},
   "outputs": [
    {
     "data": {
      "text/plain": [
       "0.003999999999999997"
      ]
     },
     "execution_count": 2,
     "metadata": {},
     "output_type": "execute_result"
    }
   ],
   "source": [
    "0.0610 - 0.0570"
   ]
  },
  {
   "cell_type": "code",
   "execution_count": 8,
   "id": "c925a538",
   "metadata": {},
   "outputs": [
    {
     "data": {
      "text/plain": [
       "0.038000000000000006"
      ]
     },
     "execution_count": 8,
     "metadata": {},
     "output_type": "execute_result"
    }
   ],
   "source": [
    "0.0570 - 0.0038*5"
   ]
  },
  {
   "cell_type": "code",
   "execution_count": null,
   "id": "3ec6ac49",
   "metadata": {},
   "outputs": [],
   "source": []
  }
 ],
 "metadata": {
  "kernelspec": {
   "display_name": "pytorch",
   "language": "python",
   "name": "python3"
  },
  "language_info": {
   "codemirror_mode": {
    "name": "ipython",
    "version": 3
   },
   "file_extension": ".py",
   "mimetype": "text/x-python",
   "name": "python",
   "nbconvert_exporter": "python",
   "pygments_lexer": "ipython3",
   "version": "3.11.2"
  }
 },
 "nbformat": 4,
 "nbformat_minor": 5
}
