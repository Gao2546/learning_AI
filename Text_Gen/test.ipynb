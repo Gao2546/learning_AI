{
 "cells": [
  {
   "cell_type": "code",
   "execution_count": 1,
   "metadata": {},
   "outputs": [
    {
     "name": "stderr",
     "output_type": "stream",
     "text": [
      "/home/athip/psu/.env/pytorch/lib/python3.12/site-packages/tqdm/auto.py:21: TqdmWarning: IProgress not found. Please update jupyter and ipywidgets. See https://ipywidgets.readthedocs.io/en/stable/user_install.html\n",
      "  from .autonotebook import tqdm as notebook_tqdm\n"
     ]
    }
   ],
   "source": [
    "import pandas as pd\n",
    "from util.util import *\n",
    "from transformers import AutoTokenizer\n",
    "import random\n",
    "from torch.utils.data import DataLoader\n",
    "import torch\n",
    "import torch.nn as nn\n",
    "import torch.optim as optim\n",
    "# import torch.utils.data as data\n",
    "from util.node import Transformer\n",
    "from torch.optim.lr_scheduler import StepLR,CosineAnnealingLR\n",
    "# import math\n",
    "# import copy"
   ]
  },
  {
   "cell_type": "code",
   "execution_count": 77,
   "metadata": {},
   "outputs": [
    {
     "data": {
      "text/plain": [
       "5"
      ]
     },
     "execution_count": 77,
     "metadata": {},
     "output_type": "execute_result"
    }
   ],
   "source": [
    "random.randrange(1,10,1)"
   ]
  },
  {
   "cell_type": "code",
   "execution_count": 79,
   "metadata": {},
   "outputs": [
    {
     "data": {
      "text/plain": [
       "[1, 2, 3, 4]"
      ]
     },
     "execution_count": 79,
     "metadata": {},
     "output_type": "execute_result"
    }
   ],
   "source": [
    "[1,2,3,4][0:4]"
   ]
  },
  {
   "cell_type": "code",
   "execution_count": 2,
   "metadata": {},
   "outputs": [],
   "source": [
    "tokenizer = AutoTokenizer.from_pretrained(\"gpt2\")"
   ]
  },
  {
   "cell_type": "code",
   "execution_count": 3,
   "metadata": {},
   "outputs": [],
   "source": [
    "def tokenizerL(text):\n",
    "    words_with_offsets = tokenizer.backend_tokenizer.pre_tokenizer.pre_tokenize_str(text)\n",
    "    new_words = [word for word, offset in words_with_offsets]\n",
    "    return new_words"
   ]
  },
  {
   "cell_type": "code",
   "execution_count": 41,
   "metadata": {},
   "outputs": [
    {
     "data": {
      "text/plain": [
       "['qwertyuiop', '[]', 'asdfghjkl', \";'\", 'zxcvbnm', ',./']"
      ]
     },
     "execution_count": 41,
     "metadata": {},
     "output_type": "execute_result"
    }
   ],
   "source": [
    "tokenizerL(\"qwertyuiop[]asdfghjkl;'zxcvbnm,./\")"
   ]
  },
  {
   "cell_type": "code",
   "execution_count": 42,
   "metadata": {},
   "outputs": [
    {
     "data": {
      "text/plain": [
       "['1234567890', '-=']"
      ]
     },
     "execution_count": 42,
     "metadata": {},
     "output_type": "execute_result"
    }
   ],
   "source": [
    "tokenizerL(\"1234567890-=\")"
   ]
  },
  {
   "cell_type": "code",
   "execution_count": null,
   "metadata": {},
   "outputs": [],
   "source": [
    "tokenizerL(\" ! @ # $ % ^ & * ( ) _ + Q W E R T Y U  I O P { } A S D F G H J K L : \" \" Z X C V B N M < > ? | \")"
   ]
  },
  {
   "cell_type": "code",
   "execution_count": 47,
   "metadata": {},
   "outputs": [
    {
     "data": {
      "text/plain": [
       "['Ġ']"
      ]
     },
     "execution_count": 47,
     "metadata": {},
     "output_type": "execute_result"
    }
   ],
   "source": [
    "tokenizerL(\" \")"
   ]
  },
  {
   "cell_type": "code",
   "execution_count": 48,
   "metadata": {},
   "outputs": [
    {
     "data": {
      "text/plain": [
       "['Ċ']"
      ]
     },
     "execution_count": 48,
     "metadata": {},
     "output_type": "execute_result"
    }
   ],
   "source": [
    "tokenizerL(\"\\n\")"
   ]
  },
  {
   "cell_type": "code",
   "execution_count": 4,
   "metadata": {},
   "outputs": [],
   "source": [
    "question = []\n",
    "answer = []\n",
    "all_data = []"
   ]
  },
  {
   "cell_type": "code",
   "execution_count": 5,
   "metadata": {},
   "outputs": [],
   "source": [
    "data = pd.read_csv(\"data/WikiQACorpus/WikiQA-train.tsv\", chunksize=10000,sep=\"\\t\")\n",
    "for d in data:\n",
    "    question += d[\"Question\"].tolist()\n",
    "    answer += d[\"Sentence\"].tolist()\n",
    "all_data = question + answer"
   ]
  },
  {
   "cell_type": "code",
   "execution_count": null,
   "metadata": {},
   "outputs": [],
   "source": [
    "data = pd.read_csv(\"./data/question_and_answer_no_code01/Dataset_Python_Question_Answer.csv\", chunksize=10000)\n",
    "for d in data:\n",
    "    question += d[\"Question\"].tolist()\n",
    "    ans = d[\"Answer\"].map(lambda x: \"\\n\".join(eval(x))).tolist()\n",
    "    answer += ans\n",
    "all_data = question + answer"
   ]
  },
  {
   "cell_type": "code",
   "execution_count": 6,
   "metadata": {},
   "outputs": [
    {
     "data": {
      "text/plain": [
       "['how are glacier caves formed?',\n",
       " 'how are glacier caves formed?',\n",
       " 'how are glacier caves formed?',\n",
       " 'how are glacier caves formed?',\n",
       " 'how are glacier caves formed?',\n",
       " 'How are the directions of the velocity and force vectors related in a circular motion',\n",
       " 'How are the directions of the velocity and force vectors related in a circular motion',\n",
       " 'How are the directions of the velocity and force vectors related in a circular motion',\n",
       " 'How are the directions of the velocity and force vectors related in a circular motion',\n",
       " 'How are the directions of the velocity and force vectors related in a circular motion']"
      ]
     },
     "execution_count": 6,
     "metadata": {},
     "output_type": "execute_result"
    }
   ],
   "source": [
    "question[:10]"
   ]
  },
  {
   "cell_type": "code",
   "execution_count": 7,
   "metadata": {},
   "outputs": [
    {
     "data": {
      "text/plain": [
       "['A partly submerged glacier cave on Perito Moreno Glacier .',\n",
       " 'The ice facade is approximately 60 m high',\n",
       " 'Ice formations in the Titlis glacier cave',\n",
       " 'A glacier cave is a cave formed within the ice of a glacier .',\n",
       " 'Glacier caves are often called ice caves , but this term is properly used to describe bedrock caves that contain year-round ice.',\n",
       " 'In physics , circular motion is a movement of an object along the circumference of a circle or rotation along a circular path.',\n",
       " 'It can be uniform, with constant angular rate of rotation (and constant speed), or non-uniform with a changing rate of rotation.',\n",
       " 'The rotation around a fixed axis of a three-dimensional body involves circular motion of its parts.',\n",
       " 'The equations of motion describe the movement of the center of mass of a body.',\n",
       " 'Examples of circular motion include: an artificial satellite orbiting the Earth at constant height, a stone which is tied to a rope and is being swung in circles, a car turning through a curve in a race track , an electron moving perpendicular to a uniform magnetic field , and a gear turning inside a mechanism.']"
      ]
     },
     "execution_count": 7,
     "metadata": {},
     "output_type": "execute_result"
    }
   ],
   "source": [
    "answer[:10]"
   ]
  },
  {
   "cell_type": "code",
   "execution_count": 2,
   "metadata": {},
   "outputs": [],
   "source": [
    "vocab_size = 1024*2"
   ]
  },
  {
   "cell_type": "code",
   "execution_count": 3,
   "metadata": {},
   "outputs": [],
   "source": [
    "bpe = BPE()"
   ]
  },
  {
   "cell_type": "code",
   "execution_count": 4,
   "metadata": {},
   "outputs": [
    {
     "data": {
      "text/plain": [
       "<bound method BPE.idx2token of <util.util.BPE object at 0x794e8a3cbad0>>"
      ]
     },
     "execution_count": 4,
     "metadata": {},
     "output_type": "execute_result"
    }
   ],
   "source": [
    "bpe.idx2token"
   ]
  },
  {
   "cell_type": "code",
   "execution_count": 5,
   "metadata": {},
   "outputs": [],
   "source": [
    "bpe.load_pretrain(\"model/BPE_model/BPE_model_code_python01.pkl\")"
   ]
  },
  {
   "cell_type": "code",
   "execution_count": 8,
   "metadata": {},
   "outputs": [
    {
     "name": "stdout",
     "output_type": "stream",
     "text": [
      "count word freq\n"
     ]
    },
    {
     "name": "stderr",
     "output_type": "stream",
     "text": [
      "100%|██████████| 40694/40694 [00:00<00:00, 49514.93it/s] \n"
     ]
    },
    {
     "name": "stdout",
     "output_type": "stream",
     "text": [
      "find alphabet\n"
     ]
    },
    {
     "name": "stderr",
     "output_type": "stream",
     "text": [
      "100%|██████████| 41833/41833 [00:00<00:00, 1064460.33it/s]\n",
      "100%|██████████| 2048/2048 [01:57<00:00, 17.43it/s] \n"
     ]
    }
   ],
   "source": [
    "bpe.train(all_data,vocab_size=vocab_size)"
   ]
  },
  {
   "cell_type": "code",
   "execution_count": 12,
   "metadata": {},
   "outputs": [],
   "source": [
    "bpe.save_model(\"model/BPE_model/BPE_model_code_python04.pkl\")"
   ]
  },
  {
   "cell_type": "code",
   "execution_count": 11,
   "metadata": {},
   "outputs": [
    {
     "data": {
      "text/plain": [
       "['Ġallow',\n",
       " 'Ġforces',\n",
       " 'Ġmoun',\n",
       " 'ged',\n",
       " 'Ġassoc',\n",
       " 'Ġestim',\n",
       " 'Ġdeterm',\n",
       " 'Ġcame',\n",
       " 'Ġturn',\n",
       " 'Ġsport',\n",
       " 'ĠBr',\n",
       " 'aster',\n",
       " 'hod',\n",
       " 'Ġfield',\n",
       " 'Ġimportant',\n",
       " 'icro',\n",
       " 'Ġ13',\n",
       " 'eptember',\n",
       " 'Ġgenerally',\n",
       " 'Ġmovie',\n",
       " 'ingu',\n",
       " 'ids',\n",
       " 'Ġspace',\n",
       " 'ma',\n",
       " 'Ġ30',\n",
       " 'ait',\n",
       " 'Ġfull',\n",
       " 'Ġmark',\n",
       " 'Ġ1990',\n",
       " 'Ġanother',\n",
       " 'ications',\n",
       " 'These',\n",
       " 'ĠAustral',\n",
       " 'Ġchildren',\n",
       " 'ological',\n",
       " 'Ġrese',\n",
       " 'ison',\n",
       " 'Ġhydro',\n",
       " 'ille',\n",
       " 'Ġexist',\n",
       " 'Ġchem',\n",
       " 'Ġtechnology',\n",
       " 'Ġpat',\n",
       " 'born',\n",
       " 'Ġfire',\n",
       " 'Ġprofessional',\n",
       " 'Ġfilms',\n",
       " 'ulf',\n",
       " 'ivision',\n",
       " 'Ġmanag',\n",
       " 'uck',\n",
       " '10',\n",
       " 'ential',\n",
       " 'sp',\n",
       " 'Ġprimary',\n",
       " 'Ġsignificant',\n",
       " 'side',\n",
       " 'ĠAt',\n",
       " 'Ġsum',\n",
       " 'aren',\n",
       " 'Ġculture',\n",
       " 'Ġtest',\n",
       " 'Ġnovel',\n",
       " 'Ġprevious',\n",
       " 'Ġdeep',\n",
       " 'Ġauthor',\n",
       " 'Ġproperty',\n",
       " 'Ġhold',\n",
       " 'ves',\n",
       " 'aper',\n",
       " 'line',\n",
       " 'Ġ&',\n",
       " 'Ġapp',\n",
       " 'ending',\n",
       " 'adem',\n",
       " 'Ġcurrently',\n",
       " 'Ġaver',\n",
       " 'Ġestablished',\n",
       " 'imately',\n",
       " 'ither',\n",
       " 'ĠSeptember',\n",
       " 'Ġtradition',\n",
       " 'Ġrecorded',\n",
       " 'lant',\n",
       " 'Ġpar',\n",
       " 'avery',\n",
       " 'Ġstill',\n",
       " 'Ġreceived',\n",
       " 'Ġhit',\n",
       " 'ĠIS',\n",
       " 'Ġcauses',\n",
       " 'ady',\n",
       " 'Ġhand',\n",
       " 'Ġreturn',\n",
       " 'ennedy',\n",
       " 'Ġfinal',\n",
       " 'Ġcompet',\n",
       " 'ĠFran',\n",
       " 'Ġthroughout',\n",
       " 'apt',\n",
       " 'Ġchampionship',\n",
       " 'ampaign',\n",
       " 'arily',\n",
       " 'ĠEn',\n",
       " 'Ġsinger',\n",
       " 'udd',\n",
       " 'Ġreport',\n",
       " 'ĠAss',\n",
       " 'Ġepisode',\n",
       " 'ĠEd',\n",
       " 'eles',\n",
       " 'Ġothers',\n",
       " 'rote',\n",
       " 'Ġevery',\n",
       " 'posed',\n",
       " 'atives',\n",
       " 'Ġsource',\n",
       " 'Ġplant',\n",
       " 'Ġstarted',\n",
       " 'Ġamerica',\n",
       " 'Ġking',\n",
       " 'Ġnorth',\n",
       " 'ĠFor',\n",
       " 'Ġlow',\n",
       " 'Ġdown',\n",
       " 'ĠMan',\n",
       " 'ering',\n",
       " 'elling',\n",
       " 'ony',\n",
       " 'Ġrecogn',\n",
       " 'rench',\n",
       " 'Ġcover',\n",
       " 'light',\n",
       " 'Ġdate',\n",
       " 'Ġpay',\n",
       " 'Ġmaterial',\n",
       " 'Ġreal',\n",
       " 'ĠBest',\n",
       " 'ĠAugust',\n",
       " 'Ġmort',\n",
       " 'Ġelements',\n",
       " 'order',\n",
       " 'Ġinvest',\n",
       " 'ĠEngland',\n",
       " 'His',\n",
       " 'oss',\n",
       " 'Although',\n",
       " 'ĠOctober']"
      ]
     },
     "execution_count": 11,
     "metadata": {},
     "output_type": "execute_result"
    }
   ],
   "source": [
    "bpe.vocab[1900:]"
   ]
  },
  {
   "cell_type": "code",
   "execution_count": 9,
   "metadata": {},
   "outputs": [
    {
     "data": {
      "text/plain": [
       "2048"
      ]
     },
     "execution_count": 9,
     "metadata": {},
     "output_type": "execute_result"
    }
   ],
   "source": [
    "len(bpe.vocab)"
   ]
  },
  {
   "cell_type": "code",
   "execution_count": 33,
   "metadata": {},
   "outputs": [],
   "source": [
    "decode = \"\".join(bpe.tokenize(answer[100])).replace(\"Ġ\",\" \").replace(\"Ċ\",\"\\n\")"
   ]
  },
  {
   "cell_type": "code",
   "execution_count": 34,
   "metadata": {},
   "outputs": [
    {
     "name": "stdout",
     "output_type": "stream",
     "text": [
      "RS-68 being tested at NASA's Stennis Space Center.\n"
     ]
    }
   ],
   "source": [
    "print(decode)"
   ]
  },
  {
   "cell_type": "code",
   "execution_count": 11,
   "metadata": {},
   "outputs": [
    {
     "name": "stdout",
     "output_type": "stream",
     "text": [
      "Sure, here's the difference between a variable and an object:\n",
      "**Variable:**\n",
      "* A variable is a named memory location that stores a single value.\n",
      "* It is a placeholder for a specific amount of data.\n",
      "* Variables can hold different values throughout the program.\n",
      "* They are declared using the `=` operator and assigned a value.\n",
      "**Object:**\n",
      "* An object is a complex data structure that contains data and methods.\n",
      "* It is an instance of a class.\n",
      "* Objects can have multiple variables and methods associated with them.\n",
      "* They are created using the `new` keyword and contain a copy of all the variables and methods of the class.\n",
      "In summary, a variable is a single piece of memory that stores a single value, while an object is a complex data structure that contains data and methods.\n"
     ]
    }
   ],
   "source": [
    "print(answer[0])"
   ]
  },
  {
   "cell_type": "code",
   "execution_count": 25,
   "metadata": {},
   "outputs": [],
   "source": [
    "a1 = tokenizerL(answer[0])"
   ]
  },
  {
   "cell_type": "code",
   "execution_count": 23,
   "metadata": {},
   "outputs": [],
   "source": [
    "tt = \"\"\"Sure, here's the difference between a variable and an object:\n",
    "**Variable:**\n",
    "* A variable is a named memory location that stores a single value.\n",
    "* It is a placeholder for a specific amount of data.\n",
    "* Variables can hold different values throughout the program.\n",
    "* They are declared using the `=` operator and assigned a value.\n",
    "**Object:**\n",
    "* An object is a complex data structure that contains data and methods.\n",
    "* It is an instance of a class.\n",
    "* Objects can have multiple variables and methods associated with them.\n",
    "* They are created using the `new` keyword and contain a copy of all the variables and methods of the class.\n",
    "In summary, a variable is a single piece of memory that stores a single value, while an object is a complex data structure that contains data and methods.\"\"\""
   ]
  },
  {
   "cell_type": "code",
   "execution_count": 26,
   "metadata": {},
   "outputs": [],
   "source": [
    "a2 = tokenizerL(tt)"
   ]
  },
  {
   "cell_type": "code",
   "execution_count": 27,
   "metadata": {},
   "outputs": [
    {
     "data": {
      "text/plain": [
       "True"
      ]
     },
     "execution_count": 27,
     "metadata": {},
     "output_type": "execute_result"
    }
   ],
   "source": [
    "a1 == a2"
   ]
  },
  {
   "cell_type": "code",
   "execution_count": 6,
   "metadata": {},
   "outputs": [],
   "source": [
    "train_data = dataloadercustom()"
   ]
  },
  {
   "cell_type": "code",
   "execution_count": 7,
   "metadata": {},
   "outputs": [
    {
     "data": {
      "text/plain": [
       "419"
      ]
     },
     "execution_count": 7,
     "metadata": {},
     "output_type": "execute_result"
    }
   ],
   "source": [
    "len(train_data)"
   ]
  },
  {
   "cell_type": "code",
   "execution_count": 8,
   "metadata": {},
   "outputs": [],
   "source": [
    "train_dataloader = DataLoader(train_data,batch_size=64,shuffle=True)"
   ]
  },
  {
   "cell_type": "code",
   "execution_count": 9,
   "metadata": {},
   "outputs": [],
   "source": [
    "qq,aa_1,aa_2 = next(iter(train_data))"
   ]
  },
  {
   "cell_type": "code",
   "execution_count": 13,
   "metadata": {},
   "outputs": [
    {
     "data": {
      "text/plain": [
       "'<|startoftext|> What is the difference between a variable and an object?<|endoftext|><|pad|><|pad|><|pad|><|pad|><|pad|><|pad|><|pad|><|pad|><|pad|><|pad|><|pad|><|pad|><|pad|><|pad|><|pad|><|pad|><|pad|><|pad|><|pad|><|pad|><|pad|><|pad|><|pad|><|pad|><|pad|><|pad|><|pad|><|pad|><|pad|><|pad|><|pad|><|pad|><|pad|><|pad|><|pad|><|pad|><|pad|><|pad|><|pad|><|pad|><|pad|><|pad|><|pad|><|pad|><|pad|><|pad|><|pad|><|pad|><|pad|><|pad|><|pad|><|pad|><|pad|><|pad|><|pad|><|pad|><|pad|><|pad|><|pad|><|pad|><|pad|><|pad|><|pad|><|pad|><|pad|><|pad|><|pad|><|pad|><|pad|><|pad|><|pad|><|pad|><|pad|><|pad|><|pad|><|pad|><|pad|><|pad|><|pad|><|pad|><|pad|><|pad|><|pad|><|pad|><|pad|><|pad|><|pad|><|pad|><|pad|><|pad|><|pad|><|pad|><|pad|><|pad|><|pad|><|pad|><|pad|><|pad|><|pad|><|pad|><|pad|><|pad|><|pad|><|pad|><|pad|><|pad|><|pad|><|pad|><|pad|><|pad|><|pad|><|pad|><|pad|><|pad|><|pad|><|pad|><|pad|><|pad|><|pad|><|pad|><|pad|><|pad|><|pad|><|pad|><|pad|><|pad|><|pad|><|pad|>'"
      ]
     },
     "execution_count": 13,
     "metadata": {},
     "output_type": "execute_result"
    }
   ],
   "source": [
    "\"\".join(bpe.idx2token(qq[:].cpu().tolist())).replace(\"Ġ\",\" \").replace(\"Ċ\",\"\\n\")"
   ]
  },
  {
   "cell_type": "code",
   "execution_count": 15,
   "metadata": {},
   "outputs": [
    {
     "name": "stdout",
     "output_type": "stream",
     "text": [
      "<|startoftext|>Sure, here's the difference between a variable and an object:\n",
      "**Variable:**\n",
      "* A variable is a named memory location that stores a single value.\n",
      "* It is a placeholder for a specific amount of data.\n",
      "* Variables can hold different values throughout the program.\n",
      "* They are declared using the `=` operator and assigned a value.\n",
      "**Object:**\n",
      "* An object is a complex data structure that contains data and methods.\n",
      "* It is an instance of a class.\n",
      "* Objects can have multiple variables and methods associated with them.\n",
      "* They are created using the `new` keyword and contain a copy of all the variables<|pad|><|pad|><|pad|><|pad|><|pad|><|pad|><|pad|><|pad|><|pad|><|pad|><|pad|><|pad|><|pad|><|pad|><|pad|><|pad|><|pad|><|pad|><|pad|><|pad|><|pad|><|pad|><|pad|><|pad|><|pad|><|pad|><|pad|><|pad|><|pad|><|pad|><|pad|><|pad|><|pad|><|pad|><|pad|><|pad|><|pad|><|pad|><|pad|><|pad|><|pad|><|pad|><|pad|><|pad|><|pad|><|pad|><|pad|><|pad|><|pad|><|pad|><|pad|><|pad|><|pad|><|pad|><|pad|><|pad|><|pad|><|pad|><|pad|><|pad|><|pad|><|pad|><|pad|><|pad|><|pad|><|pad|><|pad|><|pad|><|pad|><|pad|><|pad|><|pad|><|pad|><|pad|><|pad|><|pad|><|pad|><|pad|><|pad|><|pad|><|pad|><|pad|><|pad|><|pad|><|pad|><|pad|><|pad|><|pad|><|pad|><|pad|><|pad|><|pad|><|pad|><|pad|><|pad|><|pad|><|pad|><|pad|><|pad|><|pad|><|pad|><|pad|><|pad|><|pad|><|pad|><|pad|><|pad|><|pad|><|pad|><|pad|><|pad|><|pad|><|pad|><|pad|><|pad|><|pad|><|pad|><|pad|><|pad|><|pad|><|pad|><|pad|><|pad|><|pad|><|pad|><|pad|><|pad|><|pad|>\n"
     ]
    }
   ],
   "source": [
    "print(\"\".join(bpe.idx2token(aa_1[:].cpu().tolist())).replace(\"Ġ\",\" \").replace(\"Ċ\",\"\\n\"))"
   ]
  },
  {
   "cell_type": "code",
   "execution_count": 16,
   "metadata": {},
   "outputs": [
    {
     "name": "stdout",
     "output_type": "stream",
     "text": [
      "<|startoftext|>Sure, here's the difference between a variable and an object:\n",
      "**Variable:**\n",
      "* A variable is a named memory location that stores a single value.\n",
      "* It is a placeholder for a specific amount of data.\n",
      "* Variables can hold different values throughout the program.\n",
      "* They are declared using the `=` operator and assigned a value.\n",
      "**Object:**\n",
      "* An object is a complex data structure that contains data and methods.\n",
      "* It is an instance of a class.\n",
      "* Objects can have multiple variables and methods associated with them.\n",
      "* They are created using the `new` keyword and contain a copy of all the variables and<|pad|><|pad|><|pad|><|pad|><|pad|><|pad|><|pad|><|pad|><|pad|><|pad|><|pad|><|pad|><|pad|><|pad|><|pad|><|pad|><|pad|><|pad|><|pad|><|pad|><|pad|><|pad|><|pad|><|pad|><|pad|><|pad|><|pad|><|pad|><|pad|><|pad|><|pad|><|pad|><|pad|><|pad|><|pad|><|pad|><|pad|><|pad|><|pad|><|pad|><|pad|><|pad|><|pad|><|pad|><|pad|><|pad|><|pad|><|pad|><|pad|><|pad|><|pad|><|pad|><|pad|><|pad|><|pad|><|pad|><|pad|><|pad|><|pad|><|pad|><|pad|><|pad|><|pad|><|pad|><|pad|><|pad|><|pad|><|pad|><|pad|><|pad|><|pad|><|pad|><|pad|><|pad|><|pad|><|pad|><|pad|><|pad|><|pad|><|pad|><|pad|><|pad|><|pad|><|pad|><|pad|><|pad|><|pad|><|pad|><|pad|><|pad|><|pad|><|pad|><|pad|><|pad|><|pad|><|pad|><|pad|><|pad|><|pad|><|pad|><|pad|><|pad|><|pad|><|pad|><|pad|><|pad|><|pad|><|pad|><|pad|><|pad|><|pad|><|pad|><|pad|><|pad|><|pad|><|pad|><|pad|><|pad|><|pad|><|pad|><|pad|><|pad|><|pad|><|pad|><|pad|><|pad|><|pad|><|pad|>\n"
     ]
    }
   ],
   "source": [
    "print(\"\".join(bpe.idx2token(aa_2[:].cpu().tolist())).replace(\"Ġ\",\" \").replace(\"Ċ\",\"\\n\"))"
   ]
  },
  {
   "cell_type": "code",
   "execution_count": 2,
   "metadata": {},
   "outputs": [],
   "source": [
    "import pandas as pd\n",
    "from util.util import *\n",
    "from transformers import AutoTokenizer\n",
    "import random\n",
    "from torch.utils.data import DataLoader"
   ]
  },
  {
   "cell_type": "code",
   "execution_count": 2,
   "metadata": {},
   "outputs": [],
   "source": [
    "train_data = dataloadercustom()\n",
    "train_dataloader = DataLoader(train_data,batch_size=64,shuffle=True)"
   ]
  },
  {
   "cell_type": "code",
   "execution_count": 3,
   "metadata": {},
   "outputs": [],
   "source": [
    "class WarmupCosineScheduler:\n",
    "    def __init__(self, optimizer, warmup_steps, max_steps, base_lr):\n",
    "        self.optimizer = optimizer\n",
    "        self.warmup_steps = warmup_steps\n",
    "        self.max_steps = max_steps\n",
    "        self.base_lr = base_lr\n",
    "        self.cosine_scheduler = CosineAnnealingLR(optimizer, T_max=(max_steps - warmup_steps))\n",
    "        self.current_step = 0\n",
    "\n",
    "    def step(self):\n",
    "        if self.current_step < self.warmup_steps:\n",
    "            # Linear warmup\n",
    "            lr = self.base_lr * (self.current_step / self.warmup_steps)\n",
    "            for param_group in self.optimizer.param_groups:\n",
    "                param_group['lr'] = lr\n",
    "        else:\n",
    "            # Cosine annealing\n",
    "            self.cosine_scheduler.step()\n",
    "        \n",
    "        self.current_step += 1\n",
    "\n",
    "# # Example usage\n",
    "# model = torch.nn.Linear(10, 1)  # Simple linear model\n",
    "# optimizer = Adam(model.parameters(), lr=0.001)  # Base learning rate\n",
    "# warmup_steps = 500\n",
    "# max_steps = 5000\n",
    "# scheduler = WarmupCosineScheduler(optimizer, warmup_steps, max_steps, base_lr=0.001)\n",
    "\n",
    "# # Training loop\n",
    "# for epoch in range(num_epochs):\n",
    "#     for batch in dataloader:\n",
    "#         # Training step\n",
    "#         optimizer.zero_grad()\n",
    "#         output = model(batch)\n",
    "#         loss = loss_fn(output, batch)\n",
    "#         loss.backward()\n",
    "#         optimizer.step()\n",
    "        \n",
    "#         # Update learning rate\n",
    "#         scheduler.step()"
   ]
  },
  {
   "cell_type": "code",
   "execution_count": null,
   "metadata": {},
   "outputs": [],
   "source": [
    "import torch\n",
    "import torch.nn as nn\n",
    "import torch.optim as optim\n",
    "# import torch.utils.data as data\n",
    "from util.node import Transformer\n",
    "from torch.optim.lr_scheduler import StepLR,CosineAnnealingLR\n",
    "# import math\n",
    "# import copy\n",
    "\n",
    "# data loader\n",
    "train_data = dataloadercustom()\n",
    "train_dataloader = DataLoader(train_data,batch_size=64,shuffle=True)\n",
    "\n",
    "src_vocab_size = train_data.token_size\n",
    "tgt_vocab_size = train_data.token_size\n",
    "d_model = 128*3\n",
    "num_heads = 6*1\n",
    "num_layers = 6*1\n",
    "d_ff = 2048//8\n",
    "max_seq_length = train_data.window_size\n",
    "dropout = 0.1\n",
    "\n",
    "transformer = Transformer(src_vocab_size, tgt_vocab_size, d_model,\n",
    "                          num_heads, num_layers, d_ff, max_seq_length, dropout, device=0).to(device=0)\n",
    "\n",
    "# Generate random sample data\n",
    "# (batch_size, seq_length)\n",
    "src_data = torch.randint(\n",
    "    1, src_vocab_size, (64//8, max_seq_length)).to(device=0)\n",
    "# (batch_size, seq_length)\n",
    "tgt_data = torch.randint(\n",
    "    1, tgt_vocab_size, (64//8, max_seq_length)).to(device=0)\n",
    "\n",
    "criterion = nn.CrossEntropyLoss(ignore_index=0).to(device=0)\n",
    "optimizer = optim.Adam(transformer.parameters(),\n",
    "                       lr=0.001, betas=(0.9, 0.95), eps=1e-9)\n",
    "\n",
    "# Learning rate scheduler\n",
    "warmup_steps = 500\n",
    "max_steps = 5000\n",
    "scheduler = WarmupCosineScheduler(optimizer, warmup_steps, max_steps, base_lr=0.001)\n",
    "# scheduler = StepLR(optimizer, step_size=20, gamma=0.5)\n",
    "# scheduler = CosineAnnealingWarmRestarts(optimizer=optimizer, )\n",
    "\n",
    "transformer.train()\n",
    "\n",
    "for epoch in tqdm(range(1)):\n",
    "    for question, answer_in, answer_out in tqdm(train_dataloader):\n",
    "        optimizer.zero_grad()\n",
    "        output = transformer(question, answer_in)\n",
    "        loss = criterion(output.contiguous().view(-1, tgt_vocab_size),\n",
    "                         answer_out.contiguous().view(-1))\n",
    "        loss.backward()\n",
    "        optimizer.step()\n",
    "        scheduler.step()\n",
    "        print(f\"Epoch: {epoch+1}, Loss: {loss.item()}\")\n"
   ]
  },
  {
   "cell_type": "code",
   "execution_count": 13,
   "metadata": {},
   "outputs": [
    {
     "name": "stderr",
     "output_type": "stream",
     "text": [
      "Generating test split: 100%|██████████| 6165/6165 [00:00<00:00, 252476.48 examples/s]\n",
      "Generating validation split: 100%|██████████| 2733/2733 [00:00<00:00, 411924.42 examples/s]\n",
      "Generating train split: 100%|██████████| 20360/20360 [00:00<00:00, 948138.93 examples/s]\n"
     ]
    }
   ],
   "source": [
    "from datasets import load_dataset\n",
    "ds = load_dataset(\"microsoft/wiki_qa\")"
   ]
  },
  {
   "cell_type": "code",
   "execution_count": 17,
   "metadata": {},
   "outputs": [
    {
     "data": {
      "text/plain": [
       "'how are glacier caves formed?'"
      ]
     },
     "execution_count": 17,
     "metadata": {},
     "output_type": "execute_result"
    }
   ],
   "source": [
    "ds[\"train\"][0][\"question\"]"
   ]
  },
  {
   "cell_type": "code",
   "execution_count": null,
   "metadata": {},
   "outputs": [],
   "source": []
  }
 ],
 "metadata": {
  "kernelspec": {
   "display_name": "pytorch",
   "language": "python",
   "name": "python3"
  },
  "language_info": {
   "codemirror_mode": {
    "name": "ipython",
    "version": 3
   },
   "file_extension": ".py",
   "mimetype": "text/x-python",
   "name": "python",
   "nbconvert_exporter": "python",
   "pygments_lexer": "ipython3",
   "version": "3.12.7"
  }
 },
 "nbformat": 4,
 "nbformat_minor": 2
}
