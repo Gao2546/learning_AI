{
 "cells": [
  {
   "cell_type": "code",
   "execution_count": null,
   "id": "693df740",
   "metadata": {},
   "outputs": [],
   "source": [
    "from datasets import load_dataset, load_from_disk, Dataset"
   ]
  },
  {
   "cell_type": "code",
   "execution_count": null,
   "id": "3462f892",
   "metadata": {},
   "outputs": [],
   "source": [
    "from datasets.arrow_writer import ArrowWriter\n",
    "from datasets.features import Features, Value, Sequence\n",
    "from datasets import concatenate_datasets"
   ]
  },
  {
   "cell_type": "code",
   "execution_count": null,
   "id": "ec3954e1",
   "metadata": {},
   "outputs": [],
   "source": [
    "import os"
   ]
  },
  {
   "cell_type": "code",
   "execution_count": null,
   "id": "b0714d25",
   "metadata": {},
   "outputs": [],
   "source": [
    "# Define the dataset schema\n",
    "# features = Features({\n",
    "#     \"prompt\": Sequence(Value(\"int32\")),\n",
    "#     \"response\": Sequence(Value(\"int32\"))\n",
    "# })\n",
    "\n",
    "features = Features({\n",
    "    \"prompt\": Sequence(Sequence(Value(\"int32\"))),\n",
    "    \"response\": Sequence(Sequence(Value(\"int32\")))\n",
    "})\n",
    "\n",
    "# # Create a writer\n",
    "# writer = ArrowWriter(path=\"./data/test/my_large_dataset.arrow\", features=features)"
   ]
  },
  {
   "cell_type": "code",
   "execution_count": null,
   "id": "8b0d433d",
   "metadata": {},
   "outputs": [],
   "source": [
    "batches = [\n",
    "    {\"prompt\": [[0, 1, 2],[3, 4, 5]], \"response\": [[1, 2, 3],[4, 5, 6]]},\n",
    "    {\"prompt\": [[0, 1, 2],[3, 4, 5]], \"response\": [[1, 2, 3],[4, 5, 6]]},\n",
    "]"
   ]
  },
  {
   "cell_type": "code",
   "execution_count": null,
   "id": "bcc588b5",
   "metadata": {},
   "outputs": [],
   "source": [
    "def generate_batches():\n",
    "    for i in range(1000):  # simulate many batches\n",
    "        yield {\"prompt\": [i + j for j in range(512)], \"response\": [i + j for j in range(512)]}"
   ]
  },
  {
   "cell_type": "code",
   "execution_count": null,
   "id": "0bae6d5e",
   "metadata": {},
   "outputs": [],
   "source": [
    "ddddd = Dataset.from_generator(generate_batches,)"
   ]
  },
  {
   "cell_type": "code",
   "execution_count": null,
   "id": "443876de",
   "metadata": {},
   "outputs": [],
   "source": [
    "ddddd.save_to_disk(f\"./data/test/\")"
   ]
  },
  {
   "cell_type": "code",
   "execution_count": null,
   "id": "f18f9ff5",
   "metadata": {},
   "outputs": [],
   "source": [
    "batch_size = 50000\n",
    "batchs = []\n",
    "batch_id = 0\n",
    "for i, batch in enumerate(generate_batches()):\n",
    "    # data_dict = {k: [v] for k, v in batch.items()}  # wrap in list\n",
    "    # ds = Dataset.from_dict(data_dict, features=features)\n",
    "    batchs.append(batch)\n",
    "    if (i+1) % batch_size == 0:\n",
    "        ds = Dataset.from_list(batchs)\n",
    "        # Dataset.from_generator()\n",
    "        dss = concatenate_datasets([ds, dss] if (i+1) > batch_size else [ds])\n",
    "        batchs = []\n",
    "        batch_id += 1\n",
    "        print(f\"Processed batch {batch_id}\")\n",
    "    # Dataset.from_generator()\n",
    "dss.save_to_disk(f\"./data/test/\",)"
   ]
  },
  {
   "cell_type": "code",
   "execution_count": null,
   "id": "091bc0d9",
   "metadata": {},
   "outputs": [],
   "source": [
    "dds = None"
   ]
  },
  {
   "cell_type": "code",
   "execution_count": null,
   "id": "0fb2db7a",
   "metadata": {},
   "outputs": [],
   "source": [
    "dataset = load_from_disk(\"./data/test/\")\n"
   ]
  },
  {
   "cell_type": "code",
   "execution_count": null,
   "id": "8eecdf3e",
   "metadata": {},
   "outputs": [],
   "source": [
    "dataset"
   ]
  },
  {
   "cell_type": "code",
   "execution_count": null,
   "id": "e1067211",
   "metadata": {},
   "outputs": [],
   "source": [
    "dataset[0][\"prompt\"]"
   ]
  },
  {
   "cell_type": "code",
   "execution_count": null,
   "id": "f4d677d5",
   "metadata": {},
   "outputs": [],
   "source": []
  },
  {
   "cell_type": "code",
   "execution_count": null,
   "id": "d15e5669",
   "metadata": {},
   "outputs": [],
   "source": [
    "dataraw = load_from_disk(\"./data/Conversational01_clean\")"
   ]
  },
  {
   "cell_type": "code",
   "execution_count": null,
   "id": "1ab86a73",
   "metadata": {},
   "outputs": [],
   "source": [
    "dataraw[0]['prompt']"
   ]
  },
  {
   "cell_type": "code",
   "execution_count": null,
   "id": "b07eafb3",
   "metadata": {},
   "outputs": [],
   "source": [
    "dataraw[0]['response']"
   ]
  },
  {
   "cell_type": "code",
   "execution_count": null,
   "id": "51e207ea",
   "metadata": {},
   "outputs": [],
   "source": [
    "260000 * 0.01"
   ]
  },
  {
   "cell_type": "code",
   "execution_count": null,
   "id": "a2c28075",
   "metadata": {},
   "outputs": [],
   "source": [
    "data = load_from_disk(\"./data/Conversational01_256_10K_seq\")"
   ]
  },
  {
   "cell_type": "code",
   "execution_count": null,
   "id": "bb1bd7b4",
   "metadata": {},
   "outputs": [],
   "source": [
    "data[0]['prompt']"
   ]
  },
  {
   "cell_type": "code",
   "execution_count": null,
   "id": "cbe07b6a",
   "metadata": {},
   "outputs": [],
   "source": [
    "data[0]['response']"
   ]
  },
  {
   "cell_type": "code",
   "execution_count": null,
   "id": "0dd09aed",
   "metadata": {},
   "outputs": [],
   "source": [
    "for dd in data[:100]:\n",
    "    print(dd)"
   ]
  },
  {
   "cell_type": "code",
   "execution_count": null,
   "id": "4fbb733a",
   "metadata": {},
   "outputs": [],
   "source": [
    "len(data)"
   ]
  },
  {
   "cell_type": "code",
   "execution_count": null,
   "id": "67e750fc",
   "metadata": {},
   "outputs": [],
   "source": [
    "data[:1]"
   ]
  },
  {
   "cell_type": "code",
   "execution_count": null,
   "id": "60e5960f",
   "metadata": {},
   "outputs": [],
   "source": [
    "from datasets import load_dataset\n",
    "\n",
    "ds = load_dataset(\"0-hero/OIG-small-chip2\")"
   ]
  },
  {
   "cell_type": "code",
   "execution_count": null,
   "id": "7547216b",
   "metadata": {},
   "outputs": [],
   "source": [
    "l = [0, 1, 2, 3, 4]"
   ]
  },
  {
   "cell_type": "code",
   "execution_count": null,
   "id": "213bb2ad",
   "metadata": {},
   "outputs": [],
   "source": [
    "ll = [5] + [10] + l + [20]"
   ]
  },
  {
   "cell_type": "code",
   "execution_count": null,
   "id": "10a693fc",
   "metadata": {},
   "outputs": [],
   "source": [
    "ll"
   ]
  },
  {
   "cell_type": "code",
   "execution_count": null,
   "id": "c25b3957",
   "metadata": {},
   "outputs": [],
   "source": [
    "len(l) + 3"
   ]
  },
  {
   "cell_type": "code",
   "execution_count": null,
   "id": "53a61e29",
   "metadata": {},
   "outputs": [],
   "source": [
    "list(range(8,10))"
   ]
  },
  {
   "cell_type": "code",
   "execution_count": null,
   "id": "4e7d8ad5",
   "metadata": {},
   "outputs": [],
   "source": [
    "ll[:8]"
   ]
  },
  {
   "cell_type": "code",
   "execution_count": null,
   "id": "735897d7",
   "metadata": {},
   "outputs": [],
   "source": []
  },
  {
   "cell_type": "code",
   "execution_count": null,
   "id": "d4c1f807",
   "metadata": {},
   "outputs": [],
   "source": [
    "import numpy as np\n",
    "import matplotlib.pyplot as plt\n",
    "\n",
    "x = np.arange(1,101)\n",
    "# y = np.linspace(1, 0.0001, 1000)  # From 0.001 to 1\n",
    "Y = np.array([(0.7**i) for i in range(1, 101)])\n",
    "B = np.array([10 + (1.11**i) for i in range(100)])\n",
    "y = np.log10(Y) / np.log10(B)\n",
    "# y = np.log10(Y)\n",
    "\n",
    "plt.plot(x, y)\n",
    "plt.xscale('log')  # Logarithmic X-axis\n",
    "plt.title('Logarithmic X-axis with small X values')\n",
    "plt.xlabel('X (log scale)')\n",
    "plt.ylabel('log(X)')\n",
    "plt.grid(True, which='both')\n",
    "plt.show()\n"
   ]
  },
  {
   "cell_type": "code",
   "execution_count": null,
   "id": "124a1cd5",
   "metadata": {},
   "outputs": [],
   "source": [
    "y"
   ]
  },
  {
   "cell_type": "code",
   "execution_count": null,
   "id": "e3f67200",
   "metadata": {},
   "outputs": [],
   "source": [
    "6 in [1,2,3]"
   ]
  },
  {
   "cell_type": "code",
   "execution_count": null,
   "id": "c9959caf",
   "metadata": {},
   "outputs": [],
   "source": [
    "tt = \"dfvweverberberb1\""
   ]
  },
  {
   "cell_type": "code",
   "execution_count": null,
   "id": "2ce1b58d",
   "metadata": {},
   "outputs": [],
   "source": [
    "tt.endswith(\"1\")"
   ]
  },
  {
   "cell_type": "code",
   "execution_count": 1,
   "id": "e9f447a1",
   "metadata": {},
   "outputs": [
    {
     "name": "stderr",
     "output_type": "stream",
     "text": [
      "/home/athip/psu/learning_AI/env/pytorch/lib/python3.11/site-packages/tqdm/auto.py:21: TqdmWarning: IProgress not found. Please update jupyter and ipywidgets. See https://ipywidgets.readthedocs.io/en/stable/user_install.html\n",
      "  from .autonotebook import tqdm as notebook_tqdm\n"
     ]
    }
   ],
   "source": [
    "from util.util import Config"
   ]
  },
  {
   "cell_type": "code",
   "execution_count": 2,
   "id": "23a7552c",
   "metadata": {},
   "outputs": [],
   "source": [
    "config = Config(\"./util/model_config.json\")"
   ]
  },
  {
   "cell_type": "code",
   "execution_count": null,
   "id": "e975cfda",
   "metadata": {},
   "outputs": [],
   "source": [
    "config.config01"
   ]
  },
  {
   "cell_type": "code",
   "execution_count": 4,
   "id": "c1ae9f4a",
   "metadata": {},
   "outputs": [
    {
     "data": {
      "text/plain": [
       "1536"
      ]
     },
     "execution_count": 4,
     "metadata": {},
     "output_type": "execute_result"
    }
   ],
   "source": [
    "config.config01['model']['d_ff']"
   ]
  },
  {
   "cell_type": "code",
   "execution_count": null,
   "id": "95b90530",
   "metadata": {},
   "outputs": [],
   "source": [
    "from datasets import load_dataset, load_from_disk\n",
    "\n",
    "# Load OpenWebText\n",
    "dataset = load_dataset(\"openwebtext\",num_proc=16).save_to_disk(\"./data/OpenWebText\",num_proc=16)\n"
   ]
  },
  {
   "cell_type": "code",
   "execution_count": 1,
   "id": "fa4bab7f",
   "metadata": {},
   "outputs": [
    {
     "name": "stderr",
     "output_type": "stream",
     "text": [
      "/home/athip/psu/learning_AI/env/pytorch/lib/python3.11/site-packages/tqdm/auto.py:21: TqdmWarning: IProgress not found. Please update jupyter and ipywidgets. See https://ipywidgets.readthedocs.io/en/stable/user_install.html\n",
      "  from .autonotebook import tqdm as notebook_tqdm\n"
     ]
    },
    {
     "data": {
      "text/plain": [
       "{'text': 'Port-au-Prince, Haiti (CNN) -- Earthquake victims, writhing in pain and grasping at life, watched doctors and nurses walk away from a field hospital Friday night after a Belgian medical team evacuated the area, saying it was concerned about security.\\n\\nThe decision left CNN Chief Medical Correspondent Sanjay Gupta as the only doctor at the hospital to get the patients through the night.\\n\\nCNN initially reported, based on conversations with some of the doctors, that the United Nations ordered the Belgian First Aid and Support Team to evacuate. However, Belgian Chief Coordinator Geert Gijs, a doctor who was at the hospital with 60 Belgian medical personnel, said it was his decision to pull the team out for the night. Gijs said he requested U.N. security personnel to staff the hospital overnight, but was told that peacekeepers would only be able to evacuate the team.\\n\\nHe said it was a \"tough decision\" but that he accepted the U.N. offer to evacuate after a Canadian medical team, also at the hospital with Canadian security officers, left the site Friday afternoon. The Belgian team returned Saturday morning.\\n\\nGijs said the United Nations has agreed to provide security for Saturday night. The team has requested the Belgian government to send its own troops for the field hospital, which Gijs expects to arrive late Sunday.\\n\\nResponding to the CNN report that Gupta was the only doctor left at the Port-au-Prince field hospital, U.N. spokesman Martin Nesirky said Saturday that the world body\\'s mission in Haiti did not order any medical team to leave. If the team left, it was at the request of their own organization, he said.\\n\\nEdmond Mulet, the U.N. assistant secretary general for peacekeeping operations, told reporters later that local security officers deemed the makeshift hospital unsafe.\\n\\n\"It seems that we\\'ve heard some reports in the international media that the United Nations asked or forced some medical teams to not work any more in some clinic -- that is not true, that is completely untrue,\" Mulet said Saturday.\\n\\nCNN video from the scene Friday night shows the Belgian team packing up its supplies and leaving with an escort of blue-helmeted U.N. peacekeepers in marked trucks.\\n\\nView or add to CNN\\'s database of missing persons in Haiti\\n\\nGupta -- assisted by other CNN staffers, security personnel and at least one Haitian nurse who refused to leave -- assessed the needs of the 25 patients, but there was little they could do without supplies.\\n\\nMore people, some in critical condition, were trickling in late Friday.\\n\\n\"I\\'ve never been in a situation like this. This is quite ridiculous,\" Gupta said.\\n\\nWith a dearth of medical facilities in Haiti\\'s capital, ambulances had nowhere else to take patients, some of whom had suffered severe trauma -- amputations and head injuries -- under the rubble. Others had suffered a great deal of blood loss, but there were no blood supplies left at the clinic.\\n\\nGupta feared that some would not survive the night.\\n\\nHe and the others stayed with the injured all night, after the medical team had left and after the generators gave out and the tents turned pitch black.\\n\\nGupta monitored patients\\' vital signs, administered painkillers and continued intravenous drips. He stabilized three new patients in critical condition.\\n\\nAt 3:45 a.m., he posted a message on Twitter: \"pulling all nighter at haiti field hosp. lots of work, but all patients stable. turned my crew into a crack med team tonight.\"\\n\\nAre you in Haiti and safe? Share your photos\\n\\nHe said the Belgian doctors did not want to leave their patients behind but were ordered out by the United Nations, which sent buses to transport them.\\n\\n\"There is concern about riots not far from here -- and this is part of the problem,\" Gupta said.\\n\\nThere have been scattered reports of violence throughout the capital.\\n\\n\"What is striking to me as a physician is that patients who just had surgery, patients who are critically ill, are essentially being left here, nobody to care for them,\" Gupta said.\\n\\nSandra Pierre, a Haitian who has been helping at the makeshift hospital, said the medical staff took most of the supplies with them.\\n\\n\"All the doctors, all the nurses are gone,\" she said. \"They are expected to be back tomorrow. They had no plan on leaving tonight. It was an order that came suddenly.\"\\n\\nShe told Gupta, \"It\\'s just you.\"\\n\\nA 7.0 magnitude earthquake flattened Haiti\\'s capital city Tuesday afternoon, affecting as many as 3 million people as it fanned out across the island nation. Tens of thousands of people are feared dead.\\n\\nHaiti, the poorest nation in the Western hemisphere, lacked adequate medical resources even before the disaster and has been struggling this week to tend to huge numbers of injured. The clinic, set up under several tents, was a godsend to the few who were lucky to have been brought there.\\n\\nRetired Army Lt. Gen. Russel Honore, who led relief efforts for Hurricane Katrina in 2005, said the evacuation of the clinic\\'s medical staff was unforgivable.\\n\\n\"Search and rescue must trump security,\" Honoré said. \"I\\'ve never seen anything like this before in my life. They need to man up and get back in there.\"\\n\\nHonoré drew parallels between the tragedy in New Orleans, Louisiana, and in Port-au-Prince. But even in the chaos of Katrina, he said, he had never seen medical staff walk away.\\n\\n\"I find this astonishing these doctors left,\" he said. \"People are scared of the poor.\"\\n\\nCNN\\'s Justine Redman, Danielle Dellorto and John Bonifield contributed to this report.'}"
      ]
     },
     "execution_count": 1,
     "metadata": {},
     "output_type": "execute_result"
    }
   ],
   "source": [
    "from datasets import load_dataset, load_from_disk\n",
    "dataset = load_from_disk(\"./data/OpenWebText\")\n",
    "\n",
    "dataset['train'][0]"
   ]
  },
  {
   "cell_type": "code",
   "execution_count": 3,
   "id": "f35f9a60",
   "metadata": {},
   "outputs": [],
   "source": [
    "import tqdm"
   ]
  },
  {
   "cell_type": "code",
   "execution_count": 17,
   "id": "f0c53a72",
   "metadata": {},
   "outputs": [
    {
     "data": {
      "text/plain": [
       "8013769"
      ]
     },
     "execution_count": 17,
     "metadata": {},
     "output_type": "execute_result"
    }
   ],
   "source": [
    "len(dataset['train'])"
   ]
  },
  {
   "cell_type": "code",
   "execution_count": 4,
   "id": "cf8922e0",
   "metadata": {},
   "outputs": [
    {
     "name": "stderr",
     "output_type": "stream",
     "text": [
      "100%|██████████| 8013769/8013769 [01:33<00:00, 85997.40it/s]\n"
     ]
    }
   ],
   "source": [
    "lenght = 0\n",
    "for data in tqdm.tqdm(dataset['train']):\n",
    "    lenght += len(data['text'])"
   ]
  },
  {
   "cell_type": "code",
   "execution_count": 5,
   "id": "888fdcef",
   "metadata": {},
   "outputs": [
    {
     "data": {
      "text/plain": [
       "39386887788"
      ]
     },
     "execution_count": 5,
     "metadata": {},
     "output_type": "execute_result"
    }
   ],
   "source": [
    "lenght"
   ]
  },
  {
   "cell_type": "code",
   "execution_count": 3,
   "id": "a48e5c54",
   "metadata": {},
   "outputs": [],
   "source": [
    "from util.util import *"
   ]
  },
  {
   "cell_type": "code",
   "execution_count": 4,
   "id": "e667e591",
   "metadata": {},
   "outputs": [],
   "source": [
    "config = Config(\"./util/model_config.json\")\n",
    "config = config.config05\n",
    "model_config = config['model']\n",
    "data_config = config['data']\n",
    "training_config = config['training']\n",
    "inference_config = config['inference']\n",
    "BPE_model = BPEsSEQ(vocab_size = model_config[\"vocab_size\"])\n",
    "BPE_model.load(data_config[\"tokenizer_path\"])"
   ]
  },
  {
   "cell_type": "code",
   "execution_count": null,
   "id": "2a9c5d9f",
   "metadata": {},
   "outputs": [
    {
     "name": "stderr",
     "output_type": "stream",
     "text": [
      "  1%|▏         | 102706/8013769 [02:24<3:06:07, 708.39it/s]\n"
     ]
    },
    {
     "ename": "KeyboardInterrupt",
     "evalue": "",
     "output_type": "error",
     "traceback": [
      "\u001b[31m---------------------------------------------------------------------------\u001b[39m",
      "\u001b[31mKeyboardInterrupt\u001b[39m                         Traceback (most recent call last)",
      "\u001b[36mCell\u001b[39m\u001b[36m \u001b[39m\u001b[32mIn[21]\u001b[39m\u001b[32m, line 4\u001b[39m\n\u001b[32m      2\u001b[39m cc = \u001b[32m0\u001b[39m\n\u001b[32m      3\u001b[39m \u001b[38;5;28;01mfor\u001b[39;00m data \u001b[38;5;129;01min\u001b[39;00m tqdm(dataset[\u001b[33m'\u001b[39m\u001b[33mtrain\u001b[39m\u001b[33m'\u001b[39m]):\n\u001b[32m----> \u001b[39m\u001b[32m4\u001b[39m     lenght += \u001b[38;5;28mlen\u001b[39m(\u001b[43mBPE_model\u001b[49m\u001b[43m.\u001b[49m\u001b[43mtokenizer\u001b[49m\u001b[43m.\u001b[49m\u001b[43mencode\u001b[49m\u001b[43m(\u001b[49m\u001b[43mdata\u001b[49m\u001b[43m[\u001b[49m\u001b[33;43m'\u001b[39;49m\u001b[33;43mtext\u001b[39;49m\u001b[33;43m'\u001b[39;49m\u001b[43m]\u001b[49m\u001b[43m,\u001b[49m\u001b[43m \u001b[49m\u001b[43madd_special_tokens\u001b[49m\u001b[43m=\u001b[49m\u001b[38;5;28;43;01mFalse\u001b[39;49;00m\u001b[43m)\u001b[49m.ids)\n\u001b[32m      5\u001b[39m     cc += \u001b[32m1\u001b[39m\n\u001b[32m      6\u001b[39m     \u001b[38;5;28;01mif\u001b[39;00m lenght >= \u001b[32m4000_000_000\u001b[39m:\n",
      "\u001b[31mKeyboardInterrupt\u001b[39m: "
     ]
    }
   ],
   "source": [
    "lenght = 0\n",
    "cc = 0\n",
    "for data in tqdm(dataset['train']):\n",
    "    lenght += len(BPE_model.tokenizer.encode(data['text'], add_special_tokens=False).ids)\n",
    "    cc += 1\n",
    "    if lenght >= 25000_000_000:\n",
    "        break"
   ]
  },
  {
   "cell_type": "code",
   "execution_count": 25,
   "id": "f393f44d",
   "metadata": {},
   "outputs": [
    {
     "data": {
      "text/plain": [
       "102706"
      ]
     },
     "execution_count": 25,
     "metadata": {},
     "output_type": "execute_result"
    }
   ],
   "source": [
    "cc"
   ]
  },
  {
   "cell_type": "code",
   "execution_count": 24,
   "id": "5fbb70e2",
   "metadata": {},
   "outputs": [
    {
     "data": {
      "text/plain": [
       "117105464"
      ]
     },
     "execution_count": 24,
     "metadata": {},
     "output_type": "execute_result"
    }
   ],
   "source": [
    "lenght"
   ]
  },
  {
   "cell_type": "code",
   "execution_count": 4,
   "id": "1af617f6",
   "metadata": {},
   "outputs": [
    {
     "name": "stdout",
     "output_type": "stream",
     "text": [
      "Port-au-Prince, Haiti (CNN) -- Earthquake victims, writhing in pain and grasping at life, watched doctors and nurses walk away from a field hospital Friday night after a Belgian medical team evacuated the area, saying it was concerned about security.\n",
      "\n",
      "The decision left CNN Chief Medical Correspondent Sanjay Gupta as the only doctor at the hospital to get the patients through the night.\n",
      "\n",
      "CNN initially reported, based on conversations with some of the doctors, that the United Nations ordered the Belgian First Aid and Support Team to evacuate. However, Belgian Chief Coordinator Geert Gijs, a doctor who was at the hospital with 60 Belgian medical personnel, said it was his decision to pull the team out for the night. Gijs said he requested U.N. security personnel to staff the hospital overnight, but was told that peacekeepers would only be able to evacuate the team.\n",
      "\n",
      "He said it was a \"tough decision\" but that he accepted the U.N. offer to evacuate after a Canadian medical team, also at the hospital with Canadian security officers, left the site Friday afternoon. The Belgian team returned Saturday morning.\n",
      "\n",
      "Gijs said the United Nations has agreed to provide security for Saturday night. The team has requested the Belgian government to send its own troops for the field hospital, which Gijs expects to arrive late Sunday.\n",
      "\n",
      "Responding to the CNN report that Gupta was the only doctor left at the Port-au-Prince field hospital, U.N. spokesman Martin Nesirky said Saturday that the world body's mission in Haiti did not order any medical team to leave. If the team left, it was at the request of their own organization, he said.\n",
      "\n",
      "Edmond Mulet, the U.N. assistant secretary general for peacekeeping operations, told reporters later that local security officers deemed the makeshift hospital unsafe.\n",
      "\n",
      "\"It seems that we've heard some reports in the international media that the United Nations asked or forced some medical teams to not work any more in some clinic -- that is not true, that is completely untrue,\" Mulet said Saturday.\n",
      "\n",
      "CNN video from the scene Friday night shows the Belgian team packing up its supplies and leaving with an escort of blue-helmeted U.N. peacekeepers in marked trucks.\n",
      "\n",
      "View or add to CNN's database of missing persons in Haiti\n",
      "\n",
      "Gupta -- assisted by other CNN staffers, security personnel and at least one Haitian nurse who refused to leave -- assessed the needs of the 25 patients, but there was little they could do without supplies.\n",
      "\n",
      "More people, some in critical condition, were trickling in late Friday.\n",
      "\n",
      "\"I've never been in a situation like this. This is quite ridiculous,\" Gupta said.\n",
      "\n",
      "With a dearth of medical facilities in Haiti's capital, ambulances had nowhere else to take patients, some of whom had suffered severe trauma -- amputations and head injuries -- under the rubble. Others had suffered a great deal of blood loss, but there were no blood supplies left at the clinic.\n",
      "\n",
      "Gupta feared that some would not survive the night.\n",
      "\n",
      "He and the others stayed with the injured all night, after the medical team had left and after the generators gave out and the tents turned pitch black.\n",
      "\n",
      "Gupta monitored patients' vital signs, administered painkillers and continued intravenous drips. He stabilized three new patients in critical condition.\n",
      "\n",
      "At 3:45 a.m., he posted a message on Twitter: \"pulling all nighter at haiti field hosp. lots of work, but all patients stable. turned my crew into a crack med team tonight.\"\n",
      "\n",
      "Are you in Haiti and safe? Share your photos\n",
      "\n",
      "He said the Belgian doctors did not want to leave their patients behind but were ordered out by the United Nations, which sent buses to transport them.\n",
      "\n",
      "\"There is concern about riots not far from here -- and this is part of the problem,\" Gupta said.\n",
      "\n",
      "There have been scattered reports of violence throughout the capital.\n",
      "\n",
      "\"What is striking to me as a physician is that patients who just had surgery, patients who are critically ill, are essentially being left here, nobody to care for them,\" Gupta said.\n",
      "\n",
      "Sandra Pierre, a Haitian who has been helping at the makeshift hospital, said the medical staff took most of the supplies with them.\n",
      "\n",
      "\"All the doctors, all the nurses are gone,\" she said. \"They are expected to be back tomorrow. They had no plan on leaving tonight. It was an order that came suddenly.\"\n",
      "\n",
      "She told Gupta, \"It's just you.\"\n",
      "\n",
      "A 7.0 magnitude earthquake flattened Haiti's capital city Tuesday afternoon, affecting as many as 3 million people as it fanned out across the island nation. Tens of thousands of people are feared dead.\n",
      "\n",
      "Haiti, the poorest nation in the Western hemisphere, lacked adequate medical resources even before the disaster and has been struggling this week to tend to huge numbers of injured. The clinic, set up under several tents, was a godsend to the few who were lucky to have been brought there.\n",
      "\n",
      "Retired Army Lt. Gen. Russel Honore, who led relief efforts for Hurricane Katrina in 2005, said the evacuation of the clinic's medical staff was unforgivable.\n",
      "\n",
      "\"Search and rescue must trump security,\" Honoré said. \"I've never seen anything like this before in my life. They need to man up and get back in there.\"\n",
      "\n",
      "Honoré drew parallels between the tragedy in New Orleans, Louisiana, and in Port-au-Prince. But even in the chaos of Katrina, he said, he had never seen medical staff walk away.\n",
      "\n",
      "\"I find this astonishing these doctors left,\" he said. \"People are scared of the poor.\"\n",
      "\n",
      "CNN's Justine Redman, Danielle Dellorto and John Bonifield contributed to this report.\n"
     ]
    }
   ],
   "source": [
    "print(dataset['train'][0]['text'])"
   ]
  },
  {
   "cell_type": "code",
   "execution_count": 1,
   "id": "ce9641bb",
   "metadata": {},
   "outputs": [
    {
     "name": "stderr",
     "output_type": "stream",
     "text": [
      "/home/athip/psu/learning_AI/env/pytorch/lib/python3.11/site-packages/tqdm/auto.py:21: TqdmWarning: IProgress not found. Please update jupyter and ipywidgets. See https://ipywidgets.readthedocs.io/en/stable/user_install.html\n",
      "  from .autonotebook import tqdm as notebook_tqdm\n",
      "Setting num_proc from 16 back to 1 for the train split to disable multiprocessing as it only contains one shard.\n",
      "Generating train split: 100%|██████████| 84437/84437 [00:00<00:00, 421450.88 examples/s]\n",
      "Setting num_proc from 16 back to 1 for the validation split to disable multiprocessing as it only contains one shard.\n",
      "Generating validation split: 100%|██████████| 4401/4401 [00:00<00:00, 417023.58 examples/s]\n",
      "Saving the dataset (16/16 shards): 100%|██████████| 84437/84437 [00:00<00:00, 335158.03 examples/s]\n",
      "Saving the dataset (16/16 shards): 100%|██████████| 4401/4401 [00:00<00:00, 18449.76 examples/s]\n"
     ]
    }
   ],
   "source": [
    "from datasets import load_dataset, load_from_disk\n",
    "\n",
    "# Load OpenAssistant\n",
    "dataset = load_dataset(\"OpenAssistant/oasst1\",num_proc=16).save_to_disk(\"./data/OpenAssistant\",num_proc=16)\n"
   ]
  },
  {
   "cell_type": "code",
   "execution_count": 3,
   "id": "37e4deb1",
   "metadata": {},
   "outputs": [
    {
     "data": {
      "text/plain": [
       "'Can you write a short introduction about the relevance of the term \"monopsony\" in economics? Please use examples related to potential monopsonies in the labour market and cite relevant research.'"
      ]
     },
     "execution_count": 3,
     "metadata": {},
     "output_type": "execute_result"
    }
   ],
   "source": [
    "from datasets import load_dataset, load_from_disk\n",
    "dataset = load_from_disk(\"./data/OpenAssistant\")\n",
    "\n",
    "dataset['train'][0]['text']"
   ]
  },
  {
   "cell_type": "code",
   "execution_count": 1,
   "id": "53d7703c",
   "metadata": {},
   "outputs": [],
   "source": [
    "import tqdm"
   ]
  },
  {
   "cell_type": "code",
   "execution_count": 3,
   "id": "23bb80be",
   "metadata": {},
   "outputs": [
    {
     "name": "stderr",
     "output_type": "stream",
     "text": [
      "100%|██████████| 10/10 [00:00<00:00, 134432.82it/s]"
     ]
    },
    {
     "name": "stdout",
     "output_type": "stream",
     "text": [
      "0\n",
      "1\n",
      "2\n",
      "3\n",
      "4\n",
      "5\n",
      "6\n",
      "7\n",
      "8\n",
      "9\n"
     ]
    },
    {
     "name": "stderr",
     "output_type": "stream",
     "text": [
      "\n"
     ]
    }
   ],
   "source": [
    "for i in tqdm.tqdm(range(10)):\n",
    "    print(i)"
   ]
  },
  {
   "cell_type": "code",
   "execution_count": 1,
   "id": "ba2f6be9",
   "metadata": {},
   "outputs": [
    {
     "name": "stderr",
     "output_type": "stream",
     "text": [
      "/home/athip/psu/learning_AI/env/pytorch/lib/python3.11/site-packages/tqdm/auto.py:21: TqdmWarning: IProgress not found. Please update jupyter and ipywidgets. See https://ipywidgets.readthedocs.io/en/stable/user_install.html\n",
      "  from .autonotebook import tqdm as notebook_tqdm\n"
     ]
    }
   ],
   "source": [
    "from datasets import load_dataset, load_from_disk\n",
    "from util.util import BPEsSEQ, Config"
   ]
  },
  {
   "cell_type": "code",
   "execution_count": 12,
   "id": "749e617a",
   "metadata": {},
   "outputs": [],
   "source": [
    "index_map = load_from_disk(\"./data/OpenWebText/index_map\")"
   ]
  },
  {
   "cell_type": "code",
   "execution_count": 13,
   "id": "0ee15351",
   "metadata": {},
   "outputs": [],
   "source": [
    "pre_token = load_from_disk(\"./data/OpenWebText/pro_tokenize\")"
   ]
  },
  {
   "cell_type": "code",
   "execution_count": 20,
   "id": "0248784d",
   "metadata": {},
   "outputs": [],
   "source": [
    "BPE_model = BPEsSEQ(vocab_size = 50257)\n",
    "BPE_model.load(\"./model/BPE_model/tokenizer-bpe-OpenWebText-50k.json\")"
   ]
  },
  {
   "cell_type": "code",
   "execution_count": 23,
   "id": "59556420",
   "metadata": {},
   "outputs": [
    {
     "data": {
      "text/plain": [
       "8013"
      ]
     },
     "execution_count": 23,
     "metadata": {},
     "output_type": "execute_result"
    }
   ],
   "source": [
    "len(pre_token)"
   ]
  },
  {
   "cell_type": "code",
   "execution_count": 31,
   "id": "3f9471ce",
   "metadata": {},
   "outputs": [],
   "source": [
    "idx,start,end = index_map[100][\"map_index\"]"
   ]
  },
  {
   "cell_type": "code",
   "execution_count": 32,
   "id": "c1fd3971",
   "metadata": {},
   "outputs": [
    {
     "data": {
      "text/plain": [
       "'<|startoftext|>Port-au-Prince, Haiti (CNN) -- Earthquake victims, writhing in pain and grasping at life, watched doctors and nurses walk away from a field hospital Friday night after a Belgian medical team evacuated the area, saying it was concerned about security.\\n\\nThe decision left CNN Chief Medical Correspondent Sanjay Gupta as the only doctor at the hospital to get the patients through the night.\\n\\nCNN initially reported, based on conversations with some of'"
      ]
     },
     "execution_count": 32,
     "metadata": {},
     "output_type": "execute_result"
    }
   ],
   "source": [
    "BPE_model.decode_clean(pre_token[idx][\"token_map\"][start:end])"
   ]
  },
  {
   "cell_type": "code",
   "execution_count": 16,
   "id": "7c76bf3b",
   "metadata": {},
   "outputs": [],
   "source": [
    "dataset = load_dataset(\"rojagtap/bookcorpus\", split=\"train\", num_proc=16)"
   ]
  },
  {
   "cell_type": "code",
   "execution_count": 72,
   "id": "fd25eae6",
   "metadata": {},
   "outputs": [
    {
     "data": {
      "text/plain": [
       "\"i told you , it 's a loose represen -- - yeah , yeah .\""
      ]
     },
     "execution_count": 72,
     "metadata": {},
     "output_type": "execute_result"
    }
   ],
   "source": [
    "dataset[18879445]['text'].replace('\"',\"\")"
   ]
  },
  {
   "cell_type": "code",
   "execution_count": 2,
   "id": "b6e36e28",
   "metadata": {},
   "outputs": [],
   "source": [
    "data_book = load_from_disk(\"/home/athip/psu/learning_AI/Text_Gen/data/BookCorpus/data256_seq\")"
   ]
  },
  {
   "cell_type": "code",
   "execution_count": 48,
   "id": "9f7dced1",
   "metadata": {},
   "outputs": [
    {
     "data": {
      "text/plain": [
       "{'input_ids': [1,\n",
       "  33086,\n",
       "  33871,\n",
       "  19,\n",
       "  33325,\n",
       "  33365,\n",
       "  32453,\n",
       "  32205,\n",
       "  32180,\n",
       "  33973,\n",
       "  32206,\n",
       "  35575,\n",
       "  75,\n",
       "  32182,\n",
       "  32440,\n",
       "  34196,\n",
       "  32402,\n",
       "  32236,\n",
       "  43343,\n",
       "  45278,\n",
       "  32182,\n",
       "  38356,\n",
       "  37843,\n",
       "  35154,\n",
       "  32402,\n",
       "  32236,\n",
       "  43343,\n",
       "  45278,\n",
       "  32182,\n",
       "  38356,\n",
       "  32404,\n",
       "  34526,\n",
       "  46315,\n",
       "  33137]}"
      ]
     },
     "execution_count": 48,
     "metadata": {},
     "output_type": "execute_result"
    }
   ],
   "source": [
    "data_book[31]"
   ]
  },
  {
   "cell_type": "code",
   "execution_count": 2,
   "id": "caf49d52",
   "metadata": {},
   "outputs": [],
   "source": [
    "openassistant = load_from_disk(\"./data/OpenAssistant\")"
   ]
  },
  {
   "cell_type": "code",
   "execution_count": 6,
   "id": "41298ee2",
   "metadata": {},
   "outputs": [
    {
     "data": {
      "text/plain": [
       "{'message_id': 'c8e83833-ecbc-44fe-b6db-735228c25a1c',\n",
       " 'parent_id': '6ab24d72-0181-4594-a9cd-deaf170242fb',\n",
       " 'user_id': '2c96e467-66f0-4be7-9693-bda51356a424',\n",
       " 'created_date': '2023-02-06T13:50:44.657083+00:00',\n",
       " 'text': '\"Monopsony\" refers to a market structure where there is only one buyer for a particular good or service. In economics, this term is particularly relevant in the labor market, where a monopsony employer has significant power over the wages and working conditions of their employees. The presence of a monopsony can result in lower wages and reduced employment opportunities for workers, as the employer has little incentive to increase wages or provide better working conditions.\\n\\nRecent research has identified potential monopsonies in industries such as retail and fast food, where a few large companies control a significant portion of the market (Bivens & Mishel, 2013). In these industries, workers often face low wages, limited benefits, and reduced bargaining power, leading to a situation where they are dependent on the employer for their livelihood. This dependence can result in further suppression of wages and a decline in working conditions.\\n\\nOverall, the concept of monopsony is essential to understanding the dynamics of labor markets and the impact of market power on workers. Further research is needed to understand the extent and impact of monopsonies on the economy and to develop policies to address this issue.\\n\\nReferences:\\nBivens, J., & Mishel, L. (2013). The Pay of Corporate Executives and Financial Professionals as Evidence of Rents in Top 1 Percent Incomes. Journal of Economic Perspectives, 27(3), 57-78.',\n",
       " 'role': 'assistant',\n",
       " 'lang': 'en',\n",
       " 'review_count': 3,\n",
       " 'review_result': True,\n",
       " 'deleted': False,\n",
       " 'rank': 0,\n",
       " 'synthetic': False,\n",
       " 'model_name': None,\n",
       " 'detoxify': {'toxicity': 0.00026396565954200923,\n",
       "  'severe_toxicity': 2.7454958399175666e-05,\n",
       "  'obscene': 0.00013584605767391622,\n",
       "  'identity_attack': 9.263094398193061e-05,\n",
       "  'insult': 0.0001668655313551426,\n",
       "  'threat': 3.769186878344044e-05,\n",
       "  'sexual_explicit': 2.500762275303714e-05},\n",
       " 'message_tree_id': '6ab24d72-0181-4594-a9cd-deaf170242fb',\n",
       " 'tree_state': 'ready_for_export',\n",
       " 'emojis': {'name': ['+1', '_skip_labeling'], 'count': [3, 1]},\n",
       " 'labels': {'name': ['spam',\n",
       "   'fails_task',\n",
       "   'lang_mismatch',\n",
       "   'pii',\n",
       "   'not_appropriate',\n",
       "   'hate_speech',\n",
       "   'sexual_content',\n",
       "   'quality',\n",
       "   'toxicity',\n",
       "   'humor',\n",
       "   'helpfulness',\n",
       "   'creativity',\n",
       "   'violence'],\n",
       "  'value': [0.0,\n",
       "   0.0,\n",
       "   0.0,\n",
       "   0.0,\n",
       "   0.0,\n",
       "   0.0,\n",
       "   0.0,\n",
       "   0.9166666666666666,\n",
       "   0.375,\n",
       "   0.375,\n",
       "   0.75,\n",
       "   0.375,\n",
       "   0.0],\n",
       "  'count': [3, 2, 3, 2, 2, 2, 2, 3, 2, 2, 2, 2, 2]}}"
      ]
     },
     "execution_count": 6,
     "metadata": {},
     "output_type": "execute_result"
    }
   ],
   "source": [
    "openassistant['train'][1]"
   ]
  },
  {
   "cell_type": "code",
   "execution_count": 7,
   "id": "f966d205",
   "metadata": {},
   "outputs": [
    {
     "name": "stderr",
     "output_type": "stream",
     "text": [
      "Setting num_proc from 16 back to 1 for the train split to disable multiprocessing as it only contains one shard.\n",
      "Generating train split: 100%|██████████| 87599/87599 [00:00<00:00, 657183.50 examples/s]\n",
      "Setting num_proc from 16 back to 1 for the validation split to disable multiprocessing as it only contains one shard.\n",
      "Generating validation split: 100%|██████████| 10570/10570 [00:00<00:00, 980228.91 examples/s]\n"
     ]
    }
   ],
   "source": [
    "squad = load_dataset(\"squad\", split=\"train\", num_proc=16)"
   ]
  },
  {
   "cell_type": "code",
   "execution_count": 18,
   "id": "d1bea554",
   "metadata": {},
   "outputs": [
    {
     "data": {
      "text/plain": [
       "'To whom did the Virgin Mary allegedly appear in 1858 in Lourdes France?'"
      ]
     },
     "execution_count": 18,
     "metadata": {},
     "output_type": "execute_result"
    }
   ],
   "source": [
    "squad[0]['question']"
   ]
  },
  {
   "cell_type": "code",
   "execution_count": 17,
   "id": "15a4a3a4",
   "metadata": {},
   "outputs": [
    {
     "data": {
      "text/plain": [
       "['Saint Bernadette Soubirous']"
      ]
     },
     "execution_count": 17,
     "metadata": {},
     "output_type": "execute_result"
    }
   ],
   "source": [
    "squad[0]['answers']['text']"
   ]
  },
  {
   "cell_type": "code",
   "execution_count": 20,
   "id": "ed274b01",
   "metadata": {},
   "outputs": [
    {
     "data": {
      "text/plain": [
       "'What is in front of the Notre Dame Main Building?'"
      ]
     },
     "execution_count": 20,
     "metadata": {},
     "output_type": "execute_result"
    }
   ],
   "source": [
    "squad[1]['question']"
   ]
  },
  {
   "cell_type": "code",
   "execution_count": 21,
   "id": "525e45be",
   "metadata": {},
   "outputs": [
    {
     "data": {
      "text/plain": [
       "['a copper statue of Christ']"
      ]
     },
     "execution_count": 21,
     "metadata": {},
     "output_type": "execute_result"
    }
   ],
   "source": [
    "squad[1]['answers']['text']"
   ]
  },
  {
   "cell_type": "code",
   "execution_count": 2,
   "id": "60937ece",
   "metadata": {},
   "outputs": [],
   "source": [
    "conversation01 = load_dataset(\"papahawk/conversational-01\", split=\"train\", num_proc=16)"
   ]
  },
  {
   "cell_type": "code",
   "execution_count": 32,
   "id": "164d9cc3",
   "metadata": {},
   "outputs": [
    {
     "data": {
      "text/plain": [
       "Dataset({\n",
       "    features: ['response', 'prompt'],\n",
       "    num_rows: 258042\n",
       "})"
      ]
     },
     "execution_count": 32,
     "metadata": {},
     "output_type": "execute_result"
    }
   ],
   "source": [
    "conversation01"
   ]
  },
  {
   "cell_type": "code",
   "execution_count": 10,
   "id": "9faf2849",
   "metadata": {},
   "outputs": [
    {
     "name": "stdout",
     "output_type": "stream",
     "text": [
      "'Hello world'\n"
     ]
    }
   ],
   "source": [
    "text = \"Hello world  \\n\\n\\t  \"\n",
    "cleaned = text.strip()\n",
    "print(repr(cleaned))  # Output: 'Hello world'\n"
   ]
  },
  {
   "cell_type": "code",
   "execution_count": 24,
   "id": "86ac44da",
   "metadata": {},
   "outputs": [
    {
     "data": {
      "text/plain": [
       "Dataset({\n",
       "    features: ['id', 'title', 'context', 'question', 'answers'],\n",
       "    num_rows: 87599\n",
       "})"
      ]
     },
     "execution_count": 24,
     "metadata": {},
     "output_type": "execute_result"
    }
   ],
   "source": [
    "squad"
   ]
  },
  {
   "cell_type": "code",
   "execution_count": 22,
   "id": "77c19356",
   "metadata": {},
   "outputs": [],
   "source": [
    "conversation01_pre = load_from_disk(\"/home/athip/psu/learning_AI/Text_Gen/data/Conversational01/pre_data\")"
   ]
  },
  {
   "cell_type": "code",
   "execution_count": 33,
   "id": "9ff270f5",
   "metadata": {},
   "outputs": [
    {
     "data": {
      "text/plain": [
       "Dataset({\n",
       "    features: ['response', 'prompt'],\n",
       "    num_rows: 181511\n",
       "})"
      ]
     },
     "execution_count": 33,
     "metadata": {},
     "output_type": "execute_result"
    }
   ],
   "source": [
    "conversation01_pre"
   ]
  },
  {
   "cell_type": "code",
   "execution_count": 23,
   "id": "8b354a50",
   "metadata": {},
   "outputs": [
    {
     "data": {
      "text/plain": [
       "[1, 5, 46118, 32180, 33149, 32659, 32202, 35345, 32559, 42199, 49408, 37, 6]"
      ]
     },
     "execution_count": 23,
     "metadata": {},
     "output_type": "execute_result"
    }
   ],
   "source": [
    "conversation01_pre[0]['prompt']"
   ]
  },
  {
   "cell_type": "code",
   "execution_count": 24,
   "id": "c55e4c46",
   "metadata": {},
   "outputs": [
    {
     "data": {
      "text/plain": [
       "[1,\n",
       " 5,\n",
       " 46118,\n",
       " 32180,\n",
       " 33149,\n",
       " 32659,\n",
       " 32202,\n",
       " 35345,\n",
       " 32559,\n",
       " 42199,\n",
       " 49408,\n",
       " 37,\n",
       " 6,\n",
       " 33354]"
      ]
     },
     "execution_count": 24,
     "metadata": {},
     "output_type": "execute_result"
    }
   ],
   "source": [
    "conversation01_pre[0]['response']"
   ]
  },
  {
   "cell_type": "code",
   "execution_count": 25,
   "id": "ddb65a77",
   "metadata": {},
   "outputs": [
    {
     "name": "stdout",
     "output_type": "stream",
     "text": [
      "[1, 5, 46118, 32180, 33149, 32659, 32202, 35345, 32559, 42199, 49408, 37, 6, 33354, 32301, 34679, 36350, 32180, 34959, 32206, 32180, 32447, 32435, 20, 33013, 32435, 89, 32205, 42199, 33259, 33402, 32397, 32226, 36019, 32334, 43021, 46796, 36677, 32434, 32380, 32537, 39284, 32211, 32498, 48894, 20, 4, 4, 33587, 33091, 32278, 32327, 32176, 32374, 34063, 32641, 33970, 33300, 32256, 32202, 32511, 82, 47005, 32180, 32447, 32435, 20, 40848, 33618, 32202, 34615, 32544, 49408, 32211, 32508, 45258, 33148, 32652, 32268, 32176, 38476, 32341, 32202, 34110, 32176, 37397, 32291, 34272, 41412, 32528, 32374, 32320, 33642, 32205, 32176, 44325, 32424, 36377, 42323, 34349, 33269, 4, 4, 33686, 33091, 32176, 32374, 32320, 33642, 34062, 37556, 32180, 32447, 32435, 18, 32278, 32732, 32688, 32202, 32799, 32176, 49408, 32176, 33154, 32182, 43300, 32466, 33709, 32269, 32176, 36882, 84, 32452, 44212, 32202, 37556, 33153, 32950, 32397, 37693, 32453, 32338, 32176, 38606, 34743, 32331, 38333, 32453, 44719, 4, 4, 33736, 33091, 32176, 49408, 32176, 33154, 32182, 45661, 32202, 37556, 32180, 32447, 32435, 18, 32278, 32732, 32688, 32202, 32511, 32209, 47763, 32180, 47697, 32211, 32799, 32176, 32977, 40920, 32251, 32374, 38620, 32288, 35113, 32452, 39875, 39649, 32228, 38604, 32202, 33970, 32211, 34184, 32424, 32180, 32447, 32435, 20, 4, 4, 34378, 46409, 36064, 32176, 36228, 32374, 38620, 32563, 32528, 42199, 49408, 36173, 32202, 35057, 32447, 32435, 33989, 32598, 32404, 32206, 32706, 34130, 32277, 3]\n",
      "224\n"
     ]
    }
   ],
   "source": [
    "for i in conversation01_pre:\n",
    "    if i['response'][-1] == 3:\n",
    "        print(i['response'])\n",
    "        print(len(i['response']))\n",
    "        break"
   ]
  },
  {
   "cell_type": "code",
   "execution_count": 29,
   "id": "b820340e",
   "metadata": {},
   "outputs": [
    {
     "name": "stdout",
     "output_type": "stream",
     "text": [
      "[1, 5, 33912, 39326, 44106, 32398, 32875, 32442, 32202, 34685, 32846, 33881, 32182, 34880, 37, 6, 33354, 39399, 32267, 33210, 37525, 38524, 32, 32346, 32902, 32460, 35365, 44536, 32202, 34110, 32421, 33399, 34160, 32246, 32528, 36096, 20, 41195, 34584, 32234, 34443, 32670, 32211, 37915, 89, 32528, 34377, 36502, 18, 35598, 33220, 45765, 32211, 43474, 37236, 32202, 32528, 41536, 4, 4, 33587, 32237, 35956, 48661, 32240, 33755, 32, 34541, 89, 32410, 32234, 32528, 35875, 32211, 34584, 32238, 37261, 33172, 32246, 32180, 34052, 37267, 89, 38605, 32202, 32528, 36137, 32331, 40419, 32773, 32398, 32875, 32278, 36855, 34436, 35941, 32652, 32205, 35050, 35056, 47695, 32450, 32398, 39846, 32421, 32536, 32202, 39069, 32528, 36096, 20, 4, 4, 33686, 38715, 32211, 41358, 32, 39907, 36974, 32206, 34303, 35524, 32211, 32892, 39629, 32202, 33212, 40480, 32268, 37188, 32337, 47135, 32950, 32397, 32517, 35513, 38605, 34851, 42039, 34839, 32211, 40359, 89, 32269, 32176, 32659, 32202, 37538, 32268, 34435, 47135, 4, 4, 33736, 42496, 41072, 40957, 41318, 35191, 32176, 33304, 32206, 36648, 32331, 45354, 32211, 32799, 34260, 39326, 32202, 32218, 35317, 32410, 32211, 33429, 40480, 32268, 33982, 41412, 43993, 34584, 32211, 45509, 36495, 32202, 32198, 34621, 32413, 47679, 4, 4, 34378, 41239, 32285, 40511, 32182, 33221, 39632, 33631, 34765, 32182, 32528, 36648, 48987, 32202, 35648, 32514, 47135, 32773, 32600, 34316, 42482, 89, 32331, 33489, 45364, 4, 4, 34628, 34765, 32182, 32499, 32921, 33110, 32, 33401, 34785, 35754, 32487, 32211, 42482, 89, 32202, 36648, 32205, 33690, 32202, 37516, 36352, 32211, 35891, 32514, 47135, 4, 4, 34173, 35006, 32217, 41072, 40957, 41239, 32285, 36686, 32211, 38605]\n",
      "256\n",
      "1268\n"
     ]
    }
   ],
   "source": [
    "for i, item in enumerate(conversation01_pre):\n",
    "    if len(item['response']) >= 256:\n",
    "        print(item['response'])\n",
    "        print(len(item['response']))\n",
    "        print(i)\n",
    "        break"
   ]
  },
  {
   "cell_type": "code",
   "execution_count": 31,
   "id": "fe5ee334",
   "metadata": {},
   "outputs": [
    {
     "data": {
      "text/plain": [
       "[5,\n",
       " 33912,\n",
       " 39326,\n",
       " 44106,\n",
       " 32398,\n",
       " 32875,\n",
       " 32442,\n",
       " 32202,\n",
       " 34685,\n",
       " 32846,\n",
       " 33881,\n",
       " 32182,\n",
       " 34880,\n",
       " 37,\n",
       " 6,\n",
       " 33354,\n",
       " 39399,\n",
       " 32267,\n",
       " 33210,\n",
       " 37525,\n",
       " 38524,\n",
       " 32,\n",
       " 32346,\n",
       " 32902,\n",
       " 32460,\n",
       " 35365,\n",
       " 44536,\n",
       " 32202,\n",
       " 34110,\n",
       " 32421,\n",
       " 33399,\n",
       " 34160,\n",
       " 32246,\n",
       " 32528,\n",
       " 36096,\n",
       " 20,\n",
       " 41195,\n",
       " 34584,\n",
       " 32234,\n",
       " 34443,\n",
       " 32670,\n",
       " 32211,\n",
       " 37915,\n",
       " 89,\n",
       " 32528,\n",
       " 34377,\n",
       " 36502,\n",
       " 18,\n",
       " 35598,\n",
       " 33220,\n",
       " 45765,\n",
       " 32211,\n",
       " 43474,\n",
       " 37236,\n",
       " 32202,\n",
       " 32528,\n",
       " 41536,\n",
       " 4,\n",
       " 4,\n",
       " 33587,\n",
       " 32237,\n",
       " 35956,\n",
       " 48661,\n",
       " 32240,\n",
       " 33755,\n",
       " 32,\n",
       " 34541,\n",
       " 89,\n",
       " 32410,\n",
       " 32234,\n",
       " 32528,\n",
       " 35875,\n",
       " 32211,\n",
       " 34584,\n",
       " 32238,\n",
       " 37261,\n",
       " 33172,\n",
       " 32246,\n",
       " 32180,\n",
       " 34052,\n",
       " 37267,\n",
       " 89,\n",
       " 38605,\n",
       " 32202,\n",
       " 32528,\n",
       " 36137,\n",
       " 32331,\n",
       " 40419,\n",
       " 32773,\n",
       " 32398,\n",
       " 32875,\n",
       " 32278,\n",
       " 36855,\n",
       " 34436,\n",
       " 35941,\n",
       " 32652,\n",
       " 32205,\n",
       " 35050,\n",
       " 35056,\n",
       " 47695,\n",
       " 32450,\n",
       " 32398,\n",
       " 39846,\n",
       " 32421,\n",
       " 32536,\n",
       " 32202,\n",
       " 39069,\n",
       " 32528,\n",
       " 36096,\n",
       " 20,\n",
       " 4,\n",
       " 4,\n",
       " 33686,\n",
       " 38715,\n",
       " 32211,\n",
       " 41358,\n",
       " 32,\n",
       " 39907,\n",
       " 36974,\n",
       " 32206,\n",
       " 34303,\n",
       " 35524,\n",
       " 32211,\n",
       " 32892,\n",
       " 39629,\n",
       " 32202,\n",
       " 33212,\n",
       " 40480,\n",
       " 32268,\n",
       " 37188,\n",
       " 32337,\n",
       " 47135,\n",
       " 32950,\n",
       " 32397,\n",
       " 32517,\n",
       " 35513,\n",
       " 38605,\n",
       " 34851,\n",
       " 42039,\n",
       " 34839,\n",
       " 32211,\n",
       " 40359,\n",
       " 89,\n",
       " 32269,\n",
       " 32176,\n",
       " 32659,\n",
       " 32202,\n",
       " 37538,\n",
       " 32268,\n",
       " 34435,\n",
       " 47135,\n",
       " 4,\n",
       " 4,\n",
       " 33736,\n",
       " 42496,\n",
       " 41072,\n",
       " 40957,\n",
       " 41318,\n",
       " 35191,\n",
       " 32176,\n",
       " 33304,\n",
       " 32206,\n",
       " 36648,\n",
       " 32331,\n",
       " 45354,\n",
       " 32211,\n",
       " 32799,\n",
       " 34260,\n",
       " 39326,\n",
       " 32202,\n",
       " 32218,\n",
       " 35317,\n",
       " 32410,\n",
       " 32211,\n",
       " 33429,\n",
       " 40480,\n",
       " 32268,\n",
       " 33982,\n",
       " 41412,\n",
       " 43993,\n",
       " 34584,\n",
       " 32211,\n",
       " 45509,\n",
       " 36495,\n",
       " 32202,\n",
       " 32198,\n",
       " 34621,\n",
       " 32413,\n",
       " 47679,\n",
       " 4,\n",
       " 4,\n",
       " 34378,\n",
       " 41239,\n",
       " 32285,\n",
       " 40511,\n",
       " 32182,\n",
       " 33221,\n",
       " 39632,\n",
       " 33631,\n",
       " 34765,\n",
       " 32182,\n",
       " 32528,\n",
       " 36648,\n",
       " 48987,\n",
       " 32202,\n",
       " 35648,\n",
       " 32514,\n",
       " 47135,\n",
       " 32773,\n",
       " 32600,\n",
       " 34316,\n",
       " 42482,\n",
       " 89,\n",
       " 32331,\n",
       " 33489,\n",
       " 45364,\n",
       " 4,\n",
       " 4,\n",
       " 34628,\n",
       " 34765,\n",
       " 32182,\n",
       " 32499,\n",
       " 32921,\n",
       " 33110,\n",
       " 32,\n",
       " 33401,\n",
       " 34785,\n",
       " 35754,\n",
       " 32487,\n",
       " 32211,\n",
       " 42482,\n",
       " 89,\n",
       " 32202,\n",
       " 36648,\n",
       " 32205,\n",
       " 33690,\n",
       " 32202,\n",
       " 37516,\n",
       " 36352,\n",
       " 32211,\n",
       " 35891,\n",
       " 32514,\n",
       " 47135,\n",
       " 4,\n",
       " 4,\n",
       " 34173,\n",
       " 35006,\n",
       " 32217,\n",
       " 41072,\n",
       " 40957,\n",
       " 41239,\n",
       " 32285,\n",
       " 36686,\n",
       " 32211,\n",
       " 38605,\n",
       " 34584]"
      ]
     },
     "execution_count": 31,
     "metadata": {},
     "output_type": "execute_result"
    }
   ],
   "source": [
    "conversation01_pre[1269]['response']"
   ]
  },
  {
   "cell_type": "code",
   "execution_count": 3,
   "id": "0df0b4b5",
   "metadata": {},
   "outputs": [],
   "source": [
    "c = [1,2,3]\n",
    "c = c + [11,22,33]"
   ]
  },
  {
   "cell_type": "code",
   "execution_count": 4,
   "id": "3810875d",
   "metadata": {},
   "outputs": [
    {
     "data": {
      "text/plain": [
       "[1, 2, 3, 11, 22, 33]"
      ]
     },
     "execution_count": 4,
     "metadata": {},
     "output_type": "execute_result"
    }
   ],
   "source": [
    "c"
   ]
  },
  {
   "cell_type": "code",
   "execution_count": null,
   "id": "4c520aee",
   "metadata": {},
   "outputs": [],
   "source": []
  }
 ],
 "metadata": {
  "kernelspec": {
   "display_name": "pytorch",
   "language": "python",
   "name": "python3"
  },
  "language_info": {
   "codemirror_mode": {
    "name": "ipython",
    "version": 3
   },
   "file_extension": ".py",
   "mimetype": "text/x-python",
   "name": "python",
   "nbconvert_exporter": "python",
   "pygments_lexer": "ipython3",
   "version": "3.11.2"
  }
 },
 "nbformat": 4,
 "nbformat_minor": 5
}
