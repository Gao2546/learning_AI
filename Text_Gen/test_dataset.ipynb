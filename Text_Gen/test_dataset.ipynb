{
 "cells": [
  {
   "cell_type": "code",
   "execution_count": null,
   "id": "693df740",
   "metadata": {},
   "outputs": [],
   "source": [
    "from datasets import load_dataset, load_from_disk, Dataset"
   ]
  },
  {
   "cell_type": "code",
   "execution_count": null,
   "id": "3462f892",
   "metadata": {},
   "outputs": [],
   "source": [
    "from datasets.arrow_writer import ArrowWriter\n",
    "from datasets.features import Features, Value, Sequence\n",
    "from datasets import concatenate_datasets"
   ]
  },
  {
   "cell_type": "code",
   "execution_count": null,
   "id": "ec3954e1",
   "metadata": {},
   "outputs": [],
   "source": [
    "import os"
   ]
  },
  {
   "cell_type": "code",
   "execution_count": null,
   "id": "b0714d25",
   "metadata": {},
   "outputs": [],
   "source": [
    "# Define the dataset schema\n",
    "# features = Features({\n",
    "#     \"prompt\": Sequence(Value(\"int32\")),\n",
    "#     \"response\": Sequence(Value(\"int32\"))\n",
    "# })\n",
    "\n",
    "features = Features({\n",
    "    \"prompt\": Sequence(Sequence(Value(\"int32\"))),\n",
    "    \"response\": Sequence(Sequence(Value(\"int32\")))\n",
    "})\n",
    "\n",
    "# # Create a writer\n",
    "# writer = ArrowWriter(path=\"./data/test/my_large_dataset.arrow\", features=features)"
   ]
  },
  {
   "cell_type": "code",
   "execution_count": null,
   "id": "8b0d433d",
   "metadata": {},
   "outputs": [],
   "source": [
    "batches = [\n",
    "    {\"prompt\": [[0, 1, 2],[3, 4, 5]], \"response\": [[1, 2, 3],[4, 5, 6]]},\n",
    "    {\"prompt\": [[0, 1, 2],[3, 4, 5]], \"response\": [[1, 2, 3],[4, 5, 6]]},\n",
    "]"
   ]
  },
  {
   "cell_type": "code",
   "execution_count": null,
   "id": "bcc588b5",
   "metadata": {},
   "outputs": [],
   "source": [
    "def generate_batches():\n",
    "    for i in range(1000):  # simulate many batches\n",
    "        yield {\"prompt\": [i + j for j in range(512)], \"response\": [i + j for j in range(512)]}"
   ]
  },
  {
   "cell_type": "code",
   "execution_count": null,
   "id": "0bae6d5e",
   "metadata": {},
   "outputs": [],
   "source": [
    "ddddd = Dataset.from_generator(generate_batches,)"
   ]
  },
  {
   "cell_type": "code",
   "execution_count": null,
   "id": "443876de",
   "metadata": {},
   "outputs": [],
   "source": [
    "ddddd.save_to_disk(f\"./data/test/\")"
   ]
  },
  {
   "cell_type": "code",
   "execution_count": null,
   "id": "f18f9ff5",
   "metadata": {},
   "outputs": [],
   "source": [
    "batch_size = 50000\n",
    "batchs = []\n",
    "batch_id = 0\n",
    "for i, batch in enumerate(generate_batches()):\n",
    "    # data_dict = {k: [v] for k, v in batch.items()}  # wrap in list\n",
    "    # ds = Dataset.from_dict(data_dict, features=features)\n",
    "    batchs.append(batch)\n",
    "    if (i+1) % batch_size == 0:\n",
    "        ds = Dataset.from_list(batchs)\n",
    "        # Dataset.from_generator()\n",
    "        dss = concatenate_datasets([ds, dss] if (i+1) > batch_size else [ds])\n",
    "        batchs = []\n",
    "        batch_id += 1\n",
    "        print(f\"Processed batch {batch_id}\")\n",
    "    # Dataset.from_generator()\n",
    "dss.save_to_disk(f\"./data/test/\",)"
   ]
  },
  {
   "cell_type": "code",
   "execution_count": null,
   "id": "091bc0d9",
   "metadata": {},
   "outputs": [],
   "source": [
    "dds = None"
   ]
  },
  {
   "cell_type": "code",
   "execution_count": null,
   "id": "0fb2db7a",
   "metadata": {},
   "outputs": [],
   "source": [
    "dataset = load_from_disk(\"./data/test/\")\n"
   ]
  },
  {
   "cell_type": "code",
   "execution_count": null,
   "id": "8eecdf3e",
   "metadata": {},
   "outputs": [],
   "source": [
    "dataset"
   ]
  },
  {
   "cell_type": "code",
   "execution_count": null,
   "id": "e1067211",
   "metadata": {},
   "outputs": [],
   "source": [
    "dataset[0][\"prompt\"]"
   ]
  },
  {
   "cell_type": "code",
   "execution_count": null,
   "id": "f4d677d5",
   "metadata": {},
   "outputs": [],
   "source": []
  },
  {
   "cell_type": "code",
   "execution_count": null,
   "id": "d15e5669",
   "metadata": {},
   "outputs": [],
   "source": [
    "dataraw = load_from_disk(\"./data/Conversational01_clean\")"
   ]
  },
  {
   "cell_type": "code",
   "execution_count": null,
   "id": "1ab86a73",
   "metadata": {},
   "outputs": [],
   "source": [
    "dataraw[0]['prompt']"
   ]
  },
  {
   "cell_type": "code",
   "execution_count": null,
   "id": "b07eafb3",
   "metadata": {},
   "outputs": [],
   "source": [
    "dataraw[0]['response']"
   ]
  },
  {
   "cell_type": "code",
   "execution_count": null,
   "id": "51e207ea",
   "metadata": {},
   "outputs": [],
   "source": [
    "260000 * 0.01"
   ]
  },
  {
   "cell_type": "code",
   "execution_count": null,
   "id": "a2c28075",
   "metadata": {},
   "outputs": [],
   "source": [
    "data = load_from_disk(\"./data/Conversational01_256_10K_seq\")"
   ]
  },
  {
   "cell_type": "code",
   "execution_count": null,
   "id": "bb1bd7b4",
   "metadata": {},
   "outputs": [],
   "source": [
    "data[0]['prompt']"
   ]
  },
  {
   "cell_type": "code",
   "execution_count": null,
   "id": "cbe07b6a",
   "metadata": {},
   "outputs": [],
   "source": [
    "data[0]['response']"
   ]
  },
  {
   "cell_type": "code",
   "execution_count": null,
   "id": "0dd09aed",
   "metadata": {},
   "outputs": [],
   "source": [
    "for dd in data[:100]:\n",
    "    print(dd)"
   ]
  },
  {
   "cell_type": "code",
   "execution_count": null,
   "id": "4fbb733a",
   "metadata": {},
   "outputs": [],
   "source": [
    "len(data)"
   ]
  },
  {
   "cell_type": "code",
   "execution_count": null,
   "id": "67e750fc",
   "metadata": {},
   "outputs": [],
   "source": [
    "data[:1]"
   ]
  },
  {
   "cell_type": "code",
   "execution_count": null,
   "id": "60e5960f",
   "metadata": {},
   "outputs": [],
   "source": [
    "from datasets import load_dataset\n",
    "\n",
    "ds = load_dataset(\"0-hero/OIG-small-chip2\")"
   ]
  },
  {
   "cell_type": "code",
   "execution_count": null,
   "id": "7547216b",
   "metadata": {},
   "outputs": [],
   "source": [
    "l = [0, 1, 2, 3, 4]"
   ]
  },
  {
   "cell_type": "code",
   "execution_count": null,
   "id": "213bb2ad",
   "metadata": {},
   "outputs": [],
   "source": [
    "ll = [5] + [10] + l + [20]"
   ]
  },
  {
   "cell_type": "code",
   "execution_count": null,
   "id": "10a693fc",
   "metadata": {},
   "outputs": [],
   "source": [
    "ll"
   ]
  },
  {
   "cell_type": "code",
   "execution_count": null,
   "id": "c25b3957",
   "metadata": {},
   "outputs": [],
   "source": [
    "len(l) + 3"
   ]
  },
  {
   "cell_type": "code",
   "execution_count": null,
   "id": "53a61e29",
   "metadata": {},
   "outputs": [],
   "source": [
    "list(range(8,10))"
   ]
  },
  {
   "cell_type": "code",
   "execution_count": null,
   "id": "4e7d8ad5",
   "metadata": {},
   "outputs": [],
   "source": [
    "ll[:8]"
   ]
  },
  {
   "cell_type": "code",
   "execution_count": null,
   "id": "735897d7",
   "metadata": {},
   "outputs": [],
   "source": []
  },
  {
   "cell_type": "code",
   "execution_count": null,
   "id": "d4c1f807",
   "metadata": {},
   "outputs": [],
   "source": [
    "import numpy as np\n",
    "import matplotlib.pyplot as plt\n",
    "\n",
    "x = np.arange(1,101)\n",
    "# y = np.linspace(1, 0.0001, 1000)  # From 0.001 to 1\n",
    "Y = np.array([(0.7**i) for i in range(1, 101)])\n",
    "B = np.array([10 + (1.11**i) for i in range(100)])\n",
    "y = np.log10(Y) / np.log10(B)\n",
    "# y = np.log10(Y)\n",
    "\n",
    "plt.plot(x, y)\n",
    "plt.xscale('log')  # Logarithmic X-axis\n",
    "plt.title('Logarithmic X-axis with small X values')\n",
    "plt.xlabel('X (log scale)')\n",
    "plt.ylabel('log(X)')\n",
    "plt.grid(True, which='both')\n",
    "plt.show()\n"
   ]
  },
  {
   "cell_type": "code",
   "execution_count": null,
   "id": "124a1cd5",
   "metadata": {},
   "outputs": [],
   "source": [
    "y"
   ]
  },
  {
   "cell_type": "code",
   "execution_count": null,
   "id": "e3f67200",
   "metadata": {},
   "outputs": [],
   "source": [
    "6 in [1,2,3]"
   ]
  },
  {
   "cell_type": "code",
   "execution_count": null,
   "id": "c9959caf",
   "metadata": {},
   "outputs": [],
   "source": [
    "tt = \"dfvweverberberb1\""
   ]
  },
  {
   "cell_type": "code",
   "execution_count": null,
   "id": "2ce1b58d",
   "metadata": {},
   "outputs": [],
   "source": [
    "tt.endswith(\"1\")"
   ]
  },
  {
   "cell_type": "code",
   "execution_count": 1,
   "id": "e9f447a1",
   "metadata": {},
   "outputs": [
    {
     "name": "stderr",
     "output_type": "stream",
     "text": [
      "/home/athip/psu/learning_AI/env/pytorch/lib/python3.11/site-packages/tqdm/auto.py:21: TqdmWarning: IProgress not found. Please update jupyter and ipywidgets. See https://ipywidgets.readthedocs.io/en/stable/user_install.html\n",
      "  from .autonotebook import tqdm as notebook_tqdm\n"
     ]
    }
   ],
   "source": [
    "from util.util import Config"
   ]
  },
  {
   "cell_type": "code",
   "execution_count": 2,
   "id": "23a7552c",
   "metadata": {},
   "outputs": [],
   "source": [
    "config = Config(\"./util/model_config.json\")"
   ]
  },
  {
   "cell_type": "code",
   "execution_count": null,
   "id": "e975cfda",
   "metadata": {},
   "outputs": [],
   "source": [
    "config.config01"
   ]
  },
  {
   "cell_type": "code",
   "execution_count": 4,
   "id": "c1ae9f4a",
   "metadata": {},
   "outputs": [
    {
     "data": {
      "text/plain": [
       "1536"
      ]
     },
     "execution_count": 4,
     "metadata": {},
     "output_type": "execute_result"
    }
   ],
   "source": [
    "config.config01['model']['d_ff']"
   ]
  },
  {
   "cell_type": "code",
   "execution_count": null,
   "id": "95b90530",
   "metadata": {},
   "outputs": [],
   "source": []
  }
 ],
 "metadata": {
  "kernelspec": {
   "display_name": "pytorch",
   "language": "python",
   "name": "python3"
  },
  "language_info": {
   "codemirror_mode": {
    "name": "ipython",
    "version": 3
   },
   "file_extension": ".py",
   "mimetype": "text/x-python",
   "name": "python",
   "nbconvert_exporter": "python",
   "pygments_lexer": "ipython3",
   "version": "3.11.2"
  }
 },
 "nbformat": 4,
 "nbformat_minor": 5
}
