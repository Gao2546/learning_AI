{
 "cells": [
  {
   "cell_type": "code",
   "execution_count": null,
   "id": "693df740",
   "metadata": {},
   "outputs": [],
   "source": [
    "from datasets import load_dataset, load_from_disk, Dataset"
   ]
  },
  {
   "cell_type": "code",
   "execution_count": null,
   "id": "3462f892",
   "metadata": {},
   "outputs": [],
   "source": [
    "from datasets.arrow_writer import ArrowWriter\n",
    "from datasets.features import Features, Value, Sequence\n",
    "from datasets import concatenate_datasets"
   ]
  },
  {
   "cell_type": "code",
   "execution_count": null,
   "id": "ec3954e1",
   "metadata": {},
   "outputs": [],
   "source": [
    "import os"
   ]
  },
  {
   "cell_type": "code",
   "execution_count": null,
   "id": "b0714d25",
   "metadata": {},
   "outputs": [],
   "source": [
    "# Define the dataset schema\n",
    "# features = Features({\n",
    "#     \"prompt\": Sequence(Value(\"int32\")),\n",
    "#     \"response\": Sequence(Value(\"int32\"))\n",
    "# })\n",
    "\n",
    "features = Features({\n",
    "    \"prompt\": Sequence(Sequence(Value(\"int32\"))),\n",
    "    \"response\": Sequence(Sequence(Value(\"int32\")))\n",
    "})\n",
    "\n",
    "# # Create a writer\n",
    "# writer = ArrowWriter(path=\"./data/test/my_large_dataset.arrow\", features=features)"
   ]
  },
  {
   "cell_type": "code",
   "execution_count": null,
   "id": "8b0d433d",
   "metadata": {},
   "outputs": [],
   "source": [
    "batches = [\n",
    "    {\"prompt\": [[0, 1, 2],[3, 4, 5]], \"response\": [[1, 2, 3],[4, 5, 6]]},\n",
    "    {\"prompt\": [[0, 1, 2],[3, 4, 5]], \"response\": [[1, 2, 3],[4, 5, 6]]},\n",
    "]"
   ]
  },
  {
   "cell_type": "code",
   "execution_count": null,
   "id": "bcc588b5",
   "metadata": {},
   "outputs": [],
   "source": [
    "def generate_batches():\n",
    "    for i in range(1000):  # simulate many batches\n",
    "        yield {\"prompt\": [i + j for j in range(512)], \"response\": [i + j for j in range(512)]}"
   ]
  },
  {
   "cell_type": "code",
   "execution_count": null,
   "id": "0bae6d5e",
   "metadata": {},
   "outputs": [],
   "source": [
    "ddddd = Dataset.from_generator(generate_batches,)"
   ]
  },
  {
   "cell_type": "code",
   "execution_count": null,
   "id": "443876de",
   "metadata": {},
   "outputs": [],
   "source": [
    "ddddd.save_to_disk(f\"./data/test/\")"
   ]
  },
  {
   "cell_type": "code",
   "execution_count": null,
   "id": "f18f9ff5",
   "metadata": {},
   "outputs": [],
   "source": [
    "batch_size = 50000\n",
    "batchs = []\n",
    "batch_id = 0\n",
    "for i, batch in enumerate(generate_batches()):\n",
    "    # data_dict = {k: [v] for k, v in batch.items()}  # wrap in list\n",
    "    # ds = Dataset.from_dict(data_dict, features=features)\n",
    "    batchs.append(batch)\n",
    "    if (i+1) % batch_size == 0:\n",
    "        ds = Dataset.from_list(batchs)\n",
    "        # Dataset.from_generator()\n",
    "        dss = concatenate_datasets([ds, dss] if (i+1) > batch_size else [ds])\n",
    "        batchs = []\n",
    "        batch_id += 1\n",
    "        print(f\"Processed batch {batch_id}\")\n",
    "    # Dataset.from_generator()\n",
    "dss.save_to_disk(f\"./data/test/\",)"
   ]
  },
  {
   "cell_type": "code",
   "execution_count": null,
   "id": "091bc0d9",
   "metadata": {},
   "outputs": [],
   "source": [
    "dds = None"
   ]
  },
  {
   "cell_type": "code",
   "execution_count": null,
   "id": "0fb2db7a",
   "metadata": {},
   "outputs": [],
   "source": [
    "dataset = load_from_disk(\"./data/test/\")\n"
   ]
  },
  {
   "cell_type": "code",
   "execution_count": null,
   "id": "8eecdf3e",
   "metadata": {},
   "outputs": [],
   "source": [
    "dataset"
   ]
  },
  {
   "cell_type": "code",
   "execution_count": null,
   "id": "e1067211",
   "metadata": {},
   "outputs": [],
   "source": [
    "dataset[0][\"prompt\"]"
   ]
  },
  {
   "cell_type": "code",
   "execution_count": null,
   "id": "f4d677d5",
   "metadata": {},
   "outputs": [],
   "source": []
  },
  {
   "cell_type": "code",
   "execution_count": null,
   "id": "d15e5669",
   "metadata": {},
   "outputs": [],
   "source": [
    "dataraw = load_from_disk(\"./data/Conversational01_clean\")"
   ]
  },
  {
   "cell_type": "code",
   "execution_count": null,
   "id": "1ab86a73",
   "metadata": {},
   "outputs": [],
   "source": [
    "dataraw[0]['prompt']"
   ]
  },
  {
   "cell_type": "code",
   "execution_count": null,
   "id": "b07eafb3",
   "metadata": {},
   "outputs": [],
   "source": [
    "dataraw[0]['response']"
   ]
  },
  {
   "cell_type": "code",
   "execution_count": null,
   "id": "51e207ea",
   "metadata": {},
   "outputs": [],
   "source": [
    "260000 * 0.01"
   ]
  },
  {
   "cell_type": "code",
   "execution_count": null,
   "id": "a2c28075",
   "metadata": {},
   "outputs": [],
   "source": [
    "data = load_from_disk(\"./data/Conversational01_256_10K_seq\")"
   ]
  },
  {
   "cell_type": "code",
   "execution_count": null,
   "id": "bb1bd7b4",
   "metadata": {},
   "outputs": [],
   "source": [
    "data[0]['prompt']"
   ]
  },
  {
   "cell_type": "code",
   "execution_count": null,
   "id": "cbe07b6a",
   "metadata": {},
   "outputs": [],
   "source": [
    "data[0]['response']"
   ]
  },
  {
   "cell_type": "code",
   "execution_count": null,
   "id": "0dd09aed",
   "metadata": {},
   "outputs": [],
   "source": [
    "for dd in data[:100]:\n",
    "    print(dd)"
   ]
  },
  {
   "cell_type": "code",
   "execution_count": null,
   "id": "4fbb733a",
   "metadata": {},
   "outputs": [],
   "source": [
    "len(data)"
   ]
  },
  {
   "cell_type": "code",
   "execution_count": null,
   "id": "67e750fc",
   "metadata": {},
   "outputs": [],
   "source": [
    "data[:1]"
   ]
  },
  {
   "cell_type": "code",
   "execution_count": null,
   "id": "60e5960f",
   "metadata": {},
   "outputs": [],
   "source": [
    "from datasets import load_dataset\n",
    "\n",
    "ds = load_dataset(\"0-hero/OIG-small-chip2\")"
   ]
  },
  {
   "cell_type": "code",
   "execution_count": null,
   "id": "7547216b",
   "metadata": {},
   "outputs": [],
   "source": [
    "l = [0, 1, 2, 3, 4]"
   ]
  },
  {
   "cell_type": "code",
   "execution_count": null,
   "id": "213bb2ad",
   "metadata": {},
   "outputs": [],
   "source": [
    "ll = [5] + [10] + l + [20]"
   ]
  },
  {
   "cell_type": "code",
   "execution_count": null,
   "id": "10a693fc",
   "metadata": {},
   "outputs": [],
   "source": [
    "ll"
   ]
  },
  {
   "cell_type": "code",
   "execution_count": null,
   "id": "c25b3957",
   "metadata": {},
   "outputs": [],
   "source": [
    "len(l) + 3"
   ]
  },
  {
   "cell_type": "code",
   "execution_count": null,
   "id": "53a61e29",
   "metadata": {},
   "outputs": [],
   "source": [
    "list(range(8,10))"
   ]
  },
  {
   "cell_type": "code",
   "execution_count": null,
   "id": "4e7d8ad5",
   "metadata": {},
   "outputs": [],
   "source": [
    "ll[:8]"
   ]
  },
  {
   "cell_type": "code",
   "execution_count": null,
   "id": "735897d7",
   "metadata": {},
   "outputs": [],
   "source": []
  },
  {
   "cell_type": "code",
   "execution_count": null,
   "id": "d4c1f807",
   "metadata": {},
   "outputs": [],
   "source": [
    "import numpy as np\n",
    "import matplotlib.pyplot as plt\n",
    "\n",
    "x = np.arange(1,101)\n",
    "# y = np.linspace(1, 0.0001, 1000)  # From 0.001 to 1\n",
    "Y = np.array([(0.7**i) for i in range(1, 101)])\n",
    "B = np.array([10 + (1.11**i) for i in range(100)])\n",
    "y = np.log10(Y) / np.log10(B)\n",
    "# y = np.log10(Y)\n",
    "\n",
    "plt.plot(x, y)\n",
    "plt.xscale('log')  # Logarithmic X-axis\n",
    "plt.title('Logarithmic X-axis with small X values')\n",
    "plt.xlabel('X (log scale)')\n",
    "plt.ylabel('log(X)')\n",
    "plt.grid(True, which='both')\n",
    "plt.show()\n"
   ]
  },
  {
   "cell_type": "code",
   "execution_count": null,
   "id": "124a1cd5",
   "metadata": {},
   "outputs": [],
   "source": [
    "y"
   ]
  },
  {
   "cell_type": "code",
   "execution_count": null,
   "id": "e3f67200",
   "metadata": {},
   "outputs": [],
   "source": [
    "6 in [1,2,3]"
   ]
  },
  {
   "cell_type": "code",
   "execution_count": null,
   "id": "c9959caf",
   "metadata": {},
   "outputs": [],
   "source": [
    "tt = \"dfvweverberberb1\""
   ]
  },
  {
   "cell_type": "code",
   "execution_count": null,
   "id": "2ce1b58d",
   "metadata": {},
   "outputs": [],
   "source": [
    "tt.endswith(\"1\")"
   ]
  },
  {
   "cell_type": "code",
   "execution_count": 1,
   "id": "e9f447a1",
   "metadata": {},
   "outputs": [
    {
     "name": "stderr",
     "output_type": "stream",
     "text": [
      "/home/athip/psu/learning_AI/env/pytorch/lib/python3.11/site-packages/tqdm/auto.py:21: TqdmWarning: IProgress not found. Please update jupyter and ipywidgets. See https://ipywidgets.readthedocs.io/en/stable/user_install.html\n",
      "  from .autonotebook import tqdm as notebook_tqdm\n"
     ]
    }
   ],
   "source": [
    "from util.util import Config"
   ]
  },
  {
   "cell_type": "code",
   "execution_count": 2,
   "id": "23a7552c",
   "metadata": {},
   "outputs": [],
   "source": [
    "config = Config(\"./util/model_config.json\")"
   ]
  },
  {
   "cell_type": "code",
   "execution_count": null,
   "id": "e975cfda",
   "metadata": {},
   "outputs": [],
   "source": [
    "config.config01"
   ]
  },
  {
   "cell_type": "code",
   "execution_count": 4,
   "id": "c1ae9f4a",
   "metadata": {},
   "outputs": [
    {
     "data": {
      "text/plain": [
       "1536"
      ]
     },
     "execution_count": 4,
     "metadata": {},
     "output_type": "execute_result"
    }
   ],
   "source": [
    "config.config01['model']['d_ff']"
   ]
  },
  {
   "cell_type": "code",
   "execution_count": null,
   "id": "95b90530",
   "metadata": {},
   "outputs": [],
   "source": [
    "from datasets import load_dataset, load_from_disk\n",
    "\n",
    "# Load OpenWebText\n",
    "dataset = load_dataset(\"openwebtext\",num_proc=16).save_to_disk(\"./data/OpenWebText\",num_proc=16)\n"
   ]
  },
  {
   "cell_type": "code",
   "execution_count": 1,
   "id": "fa4bab7f",
   "metadata": {},
   "outputs": [
    {
     "name": "stderr",
     "output_type": "stream",
     "text": [
      "/home/athip/psu/learning_AI/env/pytorch/lib/python3.11/site-packages/tqdm/auto.py:21: TqdmWarning: IProgress not found. Please update jupyter and ipywidgets. See https://ipywidgets.readthedocs.io/en/stable/user_install.html\n",
      "  from .autonotebook import tqdm as notebook_tqdm\n"
     ]
    },
    {
     "data": {
      "text/plain": [
       "{'text': 'Port-au-Prince, Haiti (CNN) -- Earthquake victims, writhing in pain and grasping at life, watched doctors and nurses walk away from a field hospital Friday night after a Belgian medical team evacuated the area, saying it was concerned about security.\\n\\nThe decision left CNN Chief Medical Correspondent Sanjay Gupta as the only doctor at the hospital to get the patients through the night.\\n\\nCNN initially reported, based on conversations with some of the doctors, that the United Nations ordered the Belgian First Aid and Support Team to evacuate. However, Belgian Chief Coordinator Geert Gijs, a doctor who was at the hospital with 60 Belgian medical personnel, said it was his decision to pull the team out for the night. Gijs said he requested U.N. security personnel to staff the hospital overnight, but was told that peacekeepers would only be able to evacuate the team.\\n\\nHe said it was a \"tough decision\" but that he accepted the U.N. offer to evacuate after a Canadian medical team, also at the hospital with Canadian security officers, left the site Friday afternoon. The Belgian team returned Saturday morning.\\n\\nGijs said the United Nations has agreed to provide security for Saturday night. The team has requested the Belgian government to send its own troops for the field hospital, which Gijs expects to arrive late Sunday.\\n\\nResponding to the CNN report that Gupta was the only doctor left at the Port-au-Prince field hospital, U.N. spokesman Martin Nesirky said Saturday that the world body\\'s mission in Haiti did not order any medical team to leave. If the team left, it was at the request of their own organization, he said.\\n\\nEdmond Mulet, the U.N. assistant secretary general for peacekeeping operations, told reporters later that local security officers deemed the makeshift hospital unsafe.\\n\\n\"It seems that we\\'ve heard some reports in the international media that the United Nations asked or forced some medical teams to not work any more in some clinic -- that is not true, that is completely untrue,\" Mulet said Saturday.\\n\\nCNN video from the scene Friday night shows the Belgian team packing up its supplies and leaving with an escort of blue-helmeted U.N. peacekeepers in marked trucks.\\n\\nView or add to CNN\\'s database of missing persons in Haiti\\n\\nGupta -- assisted by other CNN staffers, security personnel and at least one Haitian nurse who refused to leave -- assessed the needs of the 25 patients, but there was little they could do without supplies.\\n\\nMore people, some in critical condition, were trickling in late Friday.\\n\\n\"I\\'ve never been in a situation like this. This is quite ridiculous,\" Gupta said.\\n\\nWith a dearth of medical facilities in Haiti\\'s capital, ambulances had nowhere else to take patients, some of whom had suffered severe trauma -- amputations and head injuries -- under the rubble. Others had suffered a great deal of blood loss, but there were no blood supplies left at the clinic.\\n\\nGupta feared that some would not survive the night.\\n\\nHe and the others stayed with the injured all night, after the medical team had left and after the generators gave out and the tents turned pitch black.\\n\\nGupta monitored patients\\' vital signs, administered painkillers and continued intravenous drips. He stabilized three new patients in critical condition.\\n\\nAt 3:45 a.m., he posted a message on Twitter: \"pulling all nighter at haiti field hosp. lots of work, but all patients stable. turned my crew into a crack med team tonight.\"\\n\\nAre you in Haiti and safe? Share your photos\\n\\nHe said the Belgian doctors did not want to leave their patients behind but were ordered out by the United Nations, which sent buses to transport them.\\n\\n\"There is concern about riots not far from here -- and this is part of the problem,\" Gupta said.\\n\\nThere have been scattered reports of violence throughout the capital.\\n\\n\"What is striking to me as a physician is that patients who just had surgery, patients who are critically ill, are essentially being left here, nobody to care for them,\" Gupta said.\\n\\nSandra Pierre, a Haitian who has been helping at the makeshift hospital, said the medical staff took most of the supplies with them.\\n\\n\"All the doctors, all the nurses are gone,\" she said. \"They are expected to be back tomorrow. They had no plan on leaving tonight. It was an order that came suddenly.\"\\n\\nShe told Gupta, \"It\\'s just you.\"\\n\\nA 7.0 magnitude earthquake flattened Haiti\\'s capital city Tuesday afternoon, affecting as many as 3 million people as it fanned out across the island nation. Tens of thousands of people are feared dead.\\n\\nHaiti, the poorest nation in the Western hemisphere, lacked adequate medical resources even before the disaster and has been struggling this week to tend to huge numbers of injured. The clinic, set up under several tents, was a godsend to the few who were lucky to have been brought there.\\n\\nRetired Army Lt. Gen. Russel Honore, who led relief efforts for Hurricane Katrina in 2005, said the evacuation of the clinic\\'s medical staff was unforgivable.\\n\\n\"Search and rescue must trump security,\" Honoré said. \"I\\'ve never seen anything like this before in my life. They need to man up and get back in there.\"\\n\\nHonoré drew parallels between the tragedy in New Orleans, Louisiana, and in Port-au-Prince. But even in the chaos of Katrina, he said, he had never seen medical staff walk away.\\n\\n\"I find this astonishing these doctors left,\" he said. \"People are scared of the poor.\"\\n\\nCNN\\'s Justine Redman, Danielle Dellorto and John Bonifield contributed to this report.'}"
      ]
     },
     "execution_count": 1,
     "metadata": {},
     "output_type": "execute_result"
    }
   ],
   "source": [
    "from datasets import load_dataset, load_from_disk\n",
    "dataset = load_from_disk(\"./data/OpenWebText\")\n",
    "\n",
    "dataset['train'][0]"
   ]
  },
  {
   "cell_type": "code",
   "execution_count": 3,
   "id": "f35f9a60",
   "metadata": {},
   "outputs": [],
   "source": [
    "import tqdm"
   ]
  },
  {
   "cell_type": "code",
   "execution_count": 17,
   "id": "f0c53a72",
   "metadata": {},
   "outputs": [
    {
     "data": {
      "text/plain": [
       "8013769"
      ]
     },
     "execution_count": 17,
     "metadata": {},
     "output_type": "execute_result"
    }
   ],
   "source": [
    "len(dataset['train'])"
   ]
  },
  {
   "cell_type": "code",
   "execution_count": 4,
   "id": "cf8922e0",
   "metadata": {},
   "outputs": [
    {
     "name": "stderr",
     "output_type": "stream",
     "text": [
      "100%|██████████| 8013769/8013769 [01:33<00:00, 85997.40it/s]\n"
     ]
    }
   ],
   "source": [
    "lenght = 0\n",
    "for data in tqdm.tqdm(dataset['train']):\n",
    "    lenght += len(data['text'])"
   ]
  },
  {
   "cell_type": "code",
   "execution_count": 5,
   "id": "888fdcef",
   "metadata": {},
   "outputs": [
    {
     "data": {
      "text/plain": [
       "39386887788"
      ]
     },
     "execution_count": 5,
     "metadata": {},
     "output_type": "execute_result"
    }
   ],
   "source": [
    "lenght"
   ]
  },
  {
   "cell_type": "code",
   "execution_count": 3,
   "id": "a48e5c54",
   "metadata": {},
   "outputs": [],
   "source": [
    "from util.util import *"
   ]
  },
  {
   "cell_type": "code",
   "execution_count": 4,
   "id": "e667e591",
   "metadata": {},
   "outputs": [],
   "source": [
    "config = Config(\"./util/model_config.json\")\n",
    "config = config.config05\n",
    "model_config = config['model']\n",
    "data_config = config['data']\n",
    "training_config = config['training']\n",
    "inference_config = config['inference']\n",
    "BPE_model = BPEsSEQ(vocab_size = model_config[\"vocab_size\"])\n",
    "BPE_model.load(data_config[\"tokenizer_path\"])"
   ]
  },
  {
   "cell_type": "code",
   "execution_count": null,
   "id": "2a9c5d9f",
   "metadata": {},
   "outputs": [
    {
     "name": "stderr",
     "output_type": "stream",
     "text": [
      "  1%|▏         | 102706/8013769 [02:24<3:06:07, 708.39it/s]\n"
     ]
    },
    {
     "ename": "KeyboardInterrupt",
     "evalue": "",
     "output_type": "error",
     "traceback": [
      "\u001b[31m---------------------------------------------------------------------------\u001b[39m",
      "\u001b[31mKeyboardInterrupt\u001b[39m                         Traceback (most recent call last)",
      "\u001b[36mCell\u001b[39m\u001b[36m \u001b[39m\u001b[32mIn[21]\u001b[39m\u001b[32m, line 4\u001b[39m\n\u001b[32m      2\u001b[39m cc = \u001b[32m0\u001b[39m\n\u001b[32m      3\u001b[39m \u001b[38;5;28;01mfor\u001b[39;00m data \u001b[38;5;129;01min\u001b[39;00m tqdm(dataset[\u001b[33m'\u001b[39m\u001b[33mtrain\u001b[39m\u001b[33m'\u001b[39m]):\n\u001b[32m----> \u001b[39m\u001b[32m4\u001b[39m     lenght += \u001b[38;5;28mlen\u001b[39m(\u001b[43mBPE_model\u001b[49m\u001b[43m.\u001b[49m\u001b[43mtokenizer\u001b[49m\u001b[43m.\u001b[49m\u001b[43mencode\u001b[49m\u001b[43m(\u001b[49m\u001b[43mdata\u001b[49m\u001b[43m[\u001b[49m\u001b[33;43m'\u001b[39;49m\u001b[33;43mtext\u001b[39;49m\u001b[33;43m'\u001b[39;49m\u001b[43m]\u001b[49m\u001b[43m,\u001b[49m\u001b[43m \u001b[49m\u001b[43madd_special_tokens\u001b[49m\u001b[43m=\u001b[49m\u001b[38;5;28;43;01mFalse\u001b[39;49;00m\u001b[43m)\u001b[49m.ids)\n\u001b[32m      5\u001b[39m     cc += \u001b[32m1\u001b[39m\n\u001b[32m      6\u001b[39m     \u001b[38;5;28;01mif\u001b[39;00m lenght >= \u001b[32m4000_000_000\u001b[39m:\n",
      "\u001b[31mKeyboardInterrupt\u001b[39m: "
     ]
    }
   ],
   "source": [
    "lenght = 0\n",
    "cc = 0\n",
    "for data in tqdm(dataset['train']):\n",
    "    lenght += len(BPE_model.tokenizer.encode(data['text'], add_special_tokens=False).ids)\n",
    "    cc += 1\n",
    "    if lenght >= 25000_000_000:\n",
    "        break"
   ]
  },
  {
   "cell_type": "code",
   "execution_count": 25,
   "id": "f393f44d",
   "metadata": {},
   "outputs": [
    {
     "data": {
      "text/plain": [
       "102706"
      ]
     },
     "execution_count": 25,
     "metadata": {},
     "output_type": "execute_result"
    }
   ],
   "source": [
    "cc"
   ]
  },
  {
   "cell_type": "code",
   "execution_count": 24,
   "id": "5fbb70e2",
   "metadata": {},
   "outputs": [
    {
     "data": {
      "text/plain": [
       "117105464"
      ]
     },
     "execution_count": 24,
     "metadata": {},
     "output_type": "execute_result"
    }
   ],
   "source": [
    "lenght"
   ]
  },
  {
   "cell_type": "code",
   "execution_count": 4,
   "id": "1af617f6",
   "metadata": {},
   "outputs": [
    {
     "name": "stdout",
     "output_type": "stream",
     "text": [
      "Port-au-Prince, Haiti (CNN) -- Earthquake victims, writhing in pain and grasping at life, watched doctors and nurses walk away from a field hospital Friday night after a Belgian medical team evacuated the area, saying it was concerned about security.\n",
      "\n",
      "The decision left CNN Chief Medical Correspondent Sanjay Gupta as the only doctor at the hospital to get the patients through the night.\n",
      "\n",
      "CNN initially reported, based on conversations with some of the doctors, that the United Nations ordered the Belgian First Aid and Support Team to evacuate. However, Belgian Chief Coordinator Geert Gijs, a doctor who was at the hospital with 60 Belgian medical personnel, said it was his decision to pull the team out for the night. Gijs said he requested U.N. security personnel to staff the hospital overnight, but was told that peacekeepers would only be able to evacuate the team.\n",
      "\n",
      "He said it was a \"tough decision\" but that he accepted the U.N. offer to evacuate after a Canadian medical team, also at the hospital with Canadian security officers, left the site Friday afternoon. The Belgian team returned Saturday morning.\n",
      "\n",
      "Gijs said the United Nations has agreed to provide security for Saturday night. The team has requested the Belgian government to send its own troops for the field hospital, which Gijs expects to arrive late Sunday.\n",
      "\n",
      "Responding to the CNN report that Gupta was the only doctor left at the Port-au-Prince field hospital, U.N. spokesman Martin Nesirky said Saturday that the world body's mission in Haiti did not order any medical team to leave. If the team left, it was at the request of their own organization, he said.\n",
      "\n",
      "Edmond Mulet, the U.N. assistant secretary general for peacekeeping operations, told reporters later that local security officers deemed the makeshift hospital unsafe.\n",
      "\n",
      "\"It seems that we've heard some reports in the international media that the United Nations asked or forced some medical teams to not work any more in some clinic -- that is not true, that is completely untrue,\" Mulet said Saturday.\n",
      "\n",
      "CNN video from the scene Friday night shows the Belgian team packing up its supplies and leaving with an escort of blue-helmeted U.N. peacekeepers in marked trucks.\n",
      "\n",
      "View or add to CNN's database of missing persons in Haiti\n",
      "\n",
      "Gupta -- assisted by other CNN staffers, security personnel and at least one Haitian nurse who refused to leave -- assessed the needs of the 25 patients, but there was little they could do without supplies.\n",
      "\n",
      "More people, some in critical condition, were trickling in late Friday.\n",
      "\n",
      "\"I've never been in a situation like this. This is quite ridiculous,\" Gupta said.\n",
      "\n",
      "With a dearth of medical facilities in Haiti's capital, ambulances had nowhere else to take patients, some of whom had suffered severe trauma -- amputations and head injuries -- under the rubble. Others had suffered a great deal of blood loss, but there were no blood supplies left at the clinic.\n",
      "\n",
      "Gupta feared that some would not survive the night.\n",
      "\n",
      "He and the others stayed with the injured all night, after the medical team had left and after the generators gave out and the tents turned pitch black.\n",
      "\n",
      "Gupta monitored patients' vital signs, administered painkillers and continued intravenous drips. He stabilized three new patients in critical condition.\n",
      "\n",
      "At 3:45 a.m., he posted a message on Twitter: \"pulling all nighter at haiti field hosp. lots of work, but all patients stable. turned my crew into a crack med team tonight.\"\n",
      "\n",
      "Are you in Haiti and safe? Share your photos\n",
      "\n",
      "He said the Belgian doctors did not want to leave their patients behind but were ordered out by the United Nations, which sent buses to transport them.\n",
      "\n",
      "\"There is concern about riots not far from here -- and this is part of the problem,\" Gupta said.\n",
      "\n",
      "There have been scattered reports of violence throughout the capital.\n",
      "\n",
      "\"What is striking to me as a physician is that patients who just had surgery, patients who are critically ill, are essentially being left here, nobody to care for them,\" Gupta said.\n",
      "\n",
      "Sandra Pierre, a Haitian who has been helping at the makeshift hospital, said the medical staff took most of the supplies with them.\n",
      "\n",
      "\"All the doctors, all the nurses are gone,\" she said. \"They are expected to be back tomorrow. They had no plan on leaving tonight. It was an order that came suddenly.\"\n",
      "\n",
      "She told Gupta, \"It's just you.\"\n",
      "\n",
      "A 7.0 magnitude earthquake flattened Haiti's capital city Tuesday afternoon, affecting as many as 3 million people as it fanned out across the island nation. Tens of thousands of people are feared dead.\n",
      "\n",
      "Haiti, the poorest nation in the Western hemisphere, lacked adequate medical resources even before the disaster and has been struggling this week to tend to huge numbers of injured. The clinic, set up under several tents, was a godsend to the few who were lucky to have been brought there.\n",
      "\n",
      "Retired Army Lt. Gen. Russel Honore, who led relief efforts for Hurricane Katrina in 2005, said the evacuation of the clinic's medical staff was unforgivable.\n",
      "\n",
      "\"Search and rescue must trump security,\" Honoré said. \"I've never seen anything like this before in my life. They need to man up and get back in there.\"\n",
      "\n",
      "Honoré drew parallels between the tragedy in New Orleans, Louisiana, and in Port-au-Prince. But even in the chaos of Katrina, he said, he had never seen medical staff walk away.\n",
      "\n",
      "\"I find this astonishing these doctors left,\" he said. \"People are scared of the poor.\"\n",
      "\n",
      "CNN's Justine Redman, Danielle Dellorto and John Bonifield contributed to this report.\n"
     ]
    }
   ],
   "source": [
    "print(dataset['train'][0]['text'])"
   ]
  },
  {
   "cell_type": "code",
   "execution_count": 1,
   "id": "ce9641bb",
   "metadata": {},
   "outputs": [
    {
     "name": "stderr",
     "output_type": "stream",
     "text": [
      "/home/athip/psu/learning_AI/env/pytorch/lib/python3.11/site-packages/tqdm/auto.py:21: TqdmWarning: IProgress not found. Please update jupyter and ipywidgets. See https://ipywidgets.readthedocs.io/en/stable/user_install.html\n",
      "  from .autonotebook import tqdm as notebook_tqdm\n",
      "Setting num_proc from 16 back to 1 for the train split to disable multiprocessing as it only contains one shard.\n",
      "Generating train split: 100%|██████████| 84437/84437 [00:00<00:00, 421450.88 examples/s]\n",
      "Setting num_proc from 16 back to 1 for the validation split to disable multiprocessing as it only contains one shard.\n",
      "Generating validation split: 100%|██████████| 4401/4401 [00:00<00:00, 417023.58 examples/s]\n",
      "Saving the dataset (16/16 shards): 100%|██████████| 84437/84437 [00:00<00:00, 335158.03 examples/s]\n",
      "Saving the dataset (16/16 shards): 100%|██████████| 4401/4401 [00:00<00:00, 18449.76 examples/s]\n"
     ]
    }
   ],
   "source": [
    "from datasets import load_dataset, load_from_disk\n",
    "\n",
    "# Load OpenAssistant\n",
    "dataset = load_dataset(\"OpenAssistant/oasst1\",num_proc=16).save_to_disk(\"./data/OpenAssistant\",num_proc=16)\n"
   ]
  },
  {
   "cell_type": "code",
   "execution_count": 3,
   "id": "37e4deb1",
   "metadata": {},
   "outputs": [
    {
     "data": {
      "text/plain": [
       "'Can you write a short introduction about the relevance of the term \"monopsony\" in economics? Please use examples related to potential monopsonies in the labour market and cite relevant research.'"
      ]
     },
     "execution_count": 3,
     "metadata": {},
     "output_type": "execute_result"
    }
   ],
   "source": [
    "from datasets import load_dataset, load_from_disk\n",
    "dataset = load_from_disk(\"./data/OpenAssistant\")\n",
    "\n",
    "dataset['train'][0]['text']"
   ]
  },
  {
   "cell_type": "code",
   "execution_count": 1,
   "id": "53d7703c",
   "metadata": {},
   "outputs": [],
   "source": [
    "import tqdm"
   ]
  },
  {
   "cell_type": "code",
   "execution_count": 3,
   "id": "23bb80be",
   "metadata": {},
   "outputs": [
    {
     "name": "stderr",
     "output_type": "stream",
     "text": [
      "100%|██████████| 10/10 [00:00<00:00, 134432.82it/s]"
     ]
    },
    {
     "name": "stdout",
     "output_type": "stream",
     "text": [
      "0\n",
      "1\n",
      "2\n",
      "3\n",
      "4\n",
      "5\n",
      "6\n",
      "7\n",
      "8\n",
      "9\n"
     ]
    },
    {
     "name": "stderr",
     "output_type": "stream",
     "text": [
      "\n"
     ]
    }
   ],
   "source": [
    "for i in tqdm.tqdm(range(10)):\n",
    "    print(i)"
   ]
  },
  {
   "cell_type": "code",
   "execution_count": null,
   "id": "ba2f6be9",
   "metadata": {},
   "outputs": [],
   "source": []
  }
 ],
 "metadata": {
  "kernelspec": {
   "display_name": "pytorch",
   "language": "python",
   "name": "python3"
  },
  "language_info": {
   "codemirror_mode": {
    "name": "ipython",
    "version": 3
   },
   "file_extension": ".py",
   "mimetype": "text/x-python",
   "name": "python",
   "nbconvert_exporter": "python",
   "pygments_lexer": "ipython3",
   "version": "3.11.2"
  }
 },
 "nbformat": 4,
 "nbformat_minor": 5
}
